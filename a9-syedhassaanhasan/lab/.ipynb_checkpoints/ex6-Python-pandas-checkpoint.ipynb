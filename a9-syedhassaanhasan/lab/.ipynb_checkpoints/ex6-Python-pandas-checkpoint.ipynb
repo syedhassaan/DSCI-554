{
 "cells": [
  {
   "cell_type": "markdown",
   "metadata": {
    "colab_type": "text",
    "id": "pg5tXiLIJNdH"
   },
   "source": [
    "# 🏋 ex6 Python Pandas\n",
    "\n",
    "Uses `matplotlib` to create basic plots for `Pandas dataframe`. \n",
    "\n",
    "Unless you want to customize there is no need to load `matplotlib`."
   ]
  },
  {
   "cell_type": "code",
   "execution_count": null,
   "metadata": {
    "colab": {},
    "colab_type": "code",
    "id": "xqjxs15NJNdC"
   },
   "outputs": [],
   "source": [
    "import pandas as pd\n",
    "import matplotlib.pyplot as plt"
   ]
  },
  {
   "cell_type": "markdown",
   "metadata": {
    "colab_type": "text",
    "id": "h4qN4-gmJNdP"
   },
   "source": [
    "Let's use iris:"
   ]
  },
  {
   "cell_type": "code",
   "execution_count": null,
   "metadata": {
    "colab": {},
    "colab_type": "code",
    "id": "nOAijMoyJNdP"
   },
   "outputs": [],
   "source": [
    "df = pd.read_csv(\"data/iris.csv\")\n",
    "df.head()"
   ]
  },
  {
   "cell_type": "markdown",
   "metadata": {
    "colab_type": "text",
    "id": "FPxIFEFDSW9Y"
   },
   "source": [
    "# Scatterplot\n",
    "\n",
    "See `?pd.DataFrame.plot.scatter`"
   ]
  },
  {
   "cell_type": "code",
   "execution_count": null,
   "metadata": {
    "colab": {},
    "colab_type": "code",
    "id": "b03ZsocO9qas"
   },
   "outputs": [],
   "source": [
    "df.plot.scatter(x='sepal_length', y='sepal_width')"
   ]
  },
  {
   "cell_type": "markdown",
   "metadata": {
    "colab_type": "text",
    "id": "KV-xp893UZqU"
   },
   "source": [
    "# Bar chart"
   ]
  },
  {
   "cell_type": "markdown",
   "metadata": {
    "colab_type": "text",
    "id": "oVjg-U3mJNdV"
   },
   "source": [
    "See `?pd.DataFrame.plot.bar`\n",
    "\n",
    "Let's create a minimal bar chart of sample type counts"
   ]
  },
  {
   "cell_type": "code",
   "execution_count": null,
   "metadata": {
    "colab": {},
    "colab_type": "code",
    "id": "jApn7qkyJNdV"
   },
   "outputs": [],
   "source": [
    "count_species = df.groupby(['species']).size().reset_index(name='counts')  #add column of counts\n",
    "\n",
    "count_species.plot.bar(x = 'species', y = 'counts', rot = 1)  #rot = 1 sets labels horizontal"
   ]
  },
  {
   "cell_type": "markdown",
   "metadata": {},
   "source": [
    "# Boxplot\n",
    "\n",
    "See `?pd.DataFrame.boxplot`"
   ]
  },
  {
   "cell_type": "code",
   "execution_count": null,
   "metadata": {},
   "outputs": [],
   "source": [
    "boxplot = df.boxplot()"
   ]
  },
  {
   "cell_type": "markdown",
   "metadata": {
    "colab_type": "text",
    "id": "IO7MA_7nSzvt"
   },
   "source": [
    "# Histogram\n",
    "\n",
    "See `?pd.DataFrame.hist`"
   ]
  },
  {
   "cell_type": "code",
   "execution_count": null,
   "metadata": {
    "colab": {},
    "colab_type": "code",
    "id": "UezCcchkS2u5"
   },
   "outputs": [],
   "source": [
    "df.hist(column='sepal_length')"
   ]
  },
  {
   "cell_type": "code",
   "execution_count": null,
   "metadata": {},
   "outputs": [],
   "source": [
    "df.hist()"
   ]
  },
  {
   "cell_type": "markdown",
   "metadata": {},
   "source": [
    "# Line chart\n",
    "\n",
    "See `?pd.DataFrame.line`"
   ]
  },
  {
   "cell_type": "code",
   "execution_count": null,
   "metadata": {},
   "outputs": [],
   "source": [
    "import numpy as np  #import numpy\n",
    "\n",
    "x = np.linspace(0, 100, 5)\n",
    "y = x * x\n",
    "\n",
    "df = pd.DataFrame({\n",
    "    'x' : x,\n",
    "    'y' : y\n",
    "    })\n",
    "\n",
    "df.plot.line(x = 'x', y = 'y')"
   ]
  },
  {
   "cell_type": "markdown",
   "metadata": {
    "colab_type": "text",
    "id": "y99dYlbfN3rn"
   },
   "source": [
    "# Customizations\n",
    "- Axis labels\n",
    "- Title\n",
    "- Graph size\n",
    "- Transparency\n",
    "- color\n",
    "- color map"
   ]
  },
  {
   "cell_type": "code",
   "execution_count": null,
   "metadata": {
    "colab": {},
    "colab_type": "code",
    "id": "46TIDbhhRskm"
   },
   "outputs": [],
   "source": [
    "import matplotlib.cm as cm\n",
    "import seaborn as sns\n",
    "\n",
    "df = pd.read_csv(\"data/iris.csv\")\n",
    "\n",
    "import matplotlib.pyplot as plt\n",
    "plt.rcParams[\"figure.figsize\"] = (10,5)  # Graph size\n",
    "\n",
    "# Manually creating a color map\n",
    "color_map = {'setosa': '#1b9e77', 'versicolor': '#d95f02', 'virginica': '#7570b3'} # color map\n",
    "colors = df.species.map(color_map)\n",
    "\n",
    "# Generating color map using Matplotlib\n",
    "import numpy as np\n",
    "colors = cm.RdYlGn(np.linspace(0, 1, len(df)))\n",
    "\n",
    "#df.species.unique(): 'setosa', 'versicolor', 'virginica' unique species\n",
    "df.plot.scatter(x='sepal_length', y='sepal_width', c=colors, alpha=0.5) # color and transparency\n",
    "plt.xlabel('sepal lenght (cm)') # x label\n",
    "plt.ylabel('sepal width (cm)') # y label\n",
    "plt.title('Iris dataset spieces') # Title\n",
    "plt.show()\n"
   ]
  },
  {
   "cell_type": "markdown",
   "metadata": {},
   "source": [
    "---\n",
    "\n",
    "# Exercises"
   ]
  },
  {
   "cell_type": "markdown",
   "metadata": {},
   "source": [
    "## 😜 Exercise 1\n",
    "\n",
    "Create a scatterplot of the `SMO-VOR-2015.csv` dataset:\n",
    "\n",
    " - load `SMO-VOR-2015.csv` in a dataframe\n",
    " - map `x` to `ptime`\n",
    " - map `y` to `alt`\n",
    " - set point `alpha` to `0.1`\n",
    " - set x axis label to 'Penetration time'\n",
    " - set y axis label to 'Altitude (feets)'\n",
    " - set title label to 'SMO VOR 2015 dataset'\n",
    " - resize the figure to `(10, 5)`\n",
    " "
   ]
  },
  {
   "cell_type": "code",
   "execution_count": null,
   "metadata": {},
   "outputs": [],
   "source": [
    "df = pd.read_csv('data/SMO-VOR-2015.csv')\n",
    "\n",
    "df.ptime = pd.to_datetime(df.ptime).values.astype(float)\n"
   ]
  },
  {
   "cell_type": "markdown",
   "metadata": {},
   "source": [
    "## 😜 Exercise 2\n",
    "\n",
    "Create a bar chart of the `SMO-VOR-2015.csv` dataset:\n",
    "\n",
    " - load `SMO-VOR-2015.csv` in a dataframe\n",
    " - map `x` to `month`\n",
    " - map `y` to `counts` \n",
    " - set y axis label to 'Count'\n",
    " - set title label to 'SMO VOR 2015 dataset'\n",
    " - set rot to 1"
   ]
  },
  {
   "cell_type": "code",
   "execution_count": null,
   "metadata": {},
   "outputs": [],
   "source": [
    "df = pd.read_csv('data/SMO-VOR-2015.csv')\n",
    "\n",
    "months = ['Mar', 'Apr', 'May', 'Jun', 'Jul', 'Aug', 'Sep', 'Oct', 'Nov', 'Dec']\n",
    "df.month = pd.Categorical(df.month, categories=months, ordered=True)\n",
    "df = df.groupby(['month']).size().reset_index(name='counts')\n"
   ]
  },
  {
   "cell_type": "markdown",
   "metadata": {},
   "source": [
    "## 😜 Exercise 3\n",
    "\n",
    "Create a boxplot of the `SMO-VOR-2015.csv` by months:\n",
    "\n",
    " - load `SMO-VOR-2015.csv` in a dataframe\n",
    " - set y axis label to 'Altitude (feets)'\n",
    " - set title label to 'SMO VOR 2015 dataset'"
   ]
  },
  {
   "cell_type": "code",
   "execution_count": null,
   "metadata": {},
   "outputs": [],
   "source": [
    "df = pd.read_csv('data/SMO-VOR-2015.csv')\n",
    "\n",
    "months = ['Mar', 'Apr', 'May', 'Jun', 'Jul', 'Aug', 'Sep', 'Oct', 'Nov', 'Dec']\n",
    "df.month = pd.Categorical(df.month, categories=months, ordered=True)\n",
    "\n",
    "df = pd.DataFrame({\n",
    "    'Mar' : pd.Series(df.alt[df.month == 'Mar']),\n",
    "    'Apr' : pd.Series(df.alt[df.month == 'Apr']),\n",
    "    'May' : pd.Series(df.alt[df.month == 'May']),\n",
    "    'Jun' : pd.Series(df.alt[df.month == 'Jun']),\n",
    "    'Jul' : pd.Series(df.alt[df.month == 'Jul']),\n",
    "    'Aug' : pd.Series(df.alt[df.month == 'Aug']),\n",
    "    'Sep' : pd.Series(df.alt[df.month == 'Sep']),\n",
    "    'Oct' : pd.Series(df.alt[df.month == 'Oct']),\n",
    "    'Nov' : pd.Series(df.alt[df.month == 'Nov']),\n",
    "    'Dec' : pd.Series(df.alt[df.month == 'Dec'])\n",
    "    })\n"
   ]
  },
  {
   "cell_type": "markdown",
   "metadata": {},
   "source": [
    "## 😜 Exercise 4\n",
    "\n",
    "Create an histogram chart of `SMO-VOR-2015.csv` by month:\n",
    "\n",
    " - load `SMO-VOR-2015.csv` in a dataframe\n",
    " - set y axis label to 'Altitude (feets)'\n",
    " - set title label to 'SMO VOR 2015 dataset'"
   ]
  },
  {
   "cell_type": "code",
   "execution_count": null,
   "metadata": {},
   "outputs": [],
   "source": [
    "df = pd.read_csv('data/SMO-VOR-2015.csv')\n",
    "\n",
    "months = ['Mar', 'Apr', 'May', 'Jun', 'Jul', 'Aug', 'Sep', 'Oct', 'Nov', 'Dec']\n",
    "df.month = pd.Categorical(df.month, categories=months, ordered=True)\n",
    "\n",
    "df = pd.DataFrame({\n",
    "    'Mar' : pd.Series(df.alt[df.month == 'Mar']),\n",
    "    'Apr' : pd.Series(df.alt[df.month == 'Apr']),\n",
    "    'May' : pd.Series(df.alt[df.month == 'May']),\n",
    "    'Jun' : pd.Series(df.alt[df.month == 'Jun']),\n",
    "    'Jul' : pd.Series(df.alt[df.month == 'Jul']),\n",
    "    'Aug' : pd.Series(df.alt[df.month == 'Aug']),\n",
    "    'Sep' : pd.Series(df.alt[df.month == 'Sep']),\n",
    "    'Oct' : pd.Series(df.alt[df.month == 'Oct']),\n",
    "    'Nov' : pd.Series(df.alt[df.month == 'Nov']),\n",
    "    'Dec' : pd.Series(df.alt[df.month == 'Dec'])\n",
    "    })\n"
   ]
  },
  {
   "cell_type": "markdown",
   "metadata": {},
   "source": [
    "## 😜 Exercise 5\n",
    "\n",
    "Create a line chart of the `TSLA.csv` dataset:\n",
    "\n",
    " - load `TSLA.csv` in a dataframe\n",
    " - map `x` to `Date`\n",
    " - map `y` to `Close`\n",
    " - set `marker` to '.'\n",
    " - set `color` to 'r'\n",
    " - set `linestyle` ':' \n",
    " - set x axis label to ''\n",
    " - set y axis label to 'Stock closure value ($)'\n",
    " - set title label to 'Tesla (TSLA) Jan-Jul 2019'"
   ]
  },
  {
   "cell_type": "code",
   "execution_count": null,
   "metadata": {},
   "outputs": [],
   "source": [
    "import pandas as pd\n",
    "import matplotlib.pyplot as plt\n",
    "\n",
    "df = pd.read_csv('data/TSLA.csv')\n",
    "df.Date = pd.to_datetime(df.Date)\n"
   ]
  }
 ],
 "metadata": {
  "colab": {
   "collapsed_sections": [],
   "name": "3-Graphing with Pandas.ipynb",
   "provenance": [
    {
     "file_id": "1yq3aHvd1ky5BearCWj8kxXLJSLLeJ1O-",
     "timestamp": 1562388202146
    }
   ],
   "toc_visible": true
  },
  "kernelspec": {
   "display_name": "Python 3",
   "language": "python",
   "name": "python3"
  },
  "language_info": {
   "codemirror_mode": {
    "name": "ipython",
    "version": 3
   },
   "file_extension": ".py",
   "mimetype": "text/x-python",
   "name": "python",
   "nbconvert_exporter": "python",
   "pygments_lexer": "ipython3",
   "version": "3.8.2"
  }
 },
 "nbformat": 4,
 "nbformat_minor": 4
}
