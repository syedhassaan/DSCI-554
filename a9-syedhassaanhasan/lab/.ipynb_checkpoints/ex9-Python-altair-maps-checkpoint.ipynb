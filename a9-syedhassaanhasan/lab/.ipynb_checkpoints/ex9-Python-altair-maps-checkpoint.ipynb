{
 "cells": [
  {
   "cell_type": "markdown",
   "metadata": {
    "colab_type": "text",
    "id": "pg5tXiLIJNdH"
   },
   "source": [
    "# 🏋 ex9 Python altair maps\n",
    "\n",
    "Import altair"
   ]
  },
  {
   "cell_type": "code",
   "execution_count": null,
   "metadata": {
    "colab": {},
    "colab_type": "code",
    "id": "xqjxs15NJNdC"
   },
   "outputs": [],
   "source": [
    "import altair as alt"
   ]
  },
  {
   "cell_type": "markdown",
   "metadata": {
    "colab_type": "text",
    "id": "h4qN4-gmJNdP"
   },
   "source": [
    "Let's use datasets from [vega_datasets](https://github.com/vega/vega-datasets)"
   ]
  },
  {
   "cell_type": "code",
   "execution_count": null,
   "metadata": {
    "colab": {},
    "colab_type": "code",
    "id": "nOAijMoyJNdP"
   },
   "outputs": [],
   "source": [
    "from vega_datasets import data"
   ]
  },
  {
   "cell_type": "markdown",
   "metadata": {},
   "source": [
    "# Dot map\n",
    "\n",
    "[Altair Locations of US Airports example](https://altair-viz.github.io/gallery/airports_count.html)"
   ]
  },
  {
   "cell_type": "code",
   "execution_count": null,
   "metadata": {},
   "outputs": [],
   "source": [
    "from vega_datasets import data\n",
    "\n",
    "airports = data.airports.url\n",
    "states = alt.topo_feature(data.us_10m.url, feature='states')\n",
    "\n",
    "# US states background\n",
    "background = alt.Chart(states).mark_geoshape(\n",
    "    fill='lightgray',\n",
    "    stroke='white'\n",
    ").properties(\n",
    "    width=500,\n",
    "    height=300\n",
    ").project('albersUsa')\n",
    "\n",
    "# airport positions on background\n",
    "points = alt.Chart(airports).transform_aggregate(\n",
    "    latitude='mean(latitude)',\n",
    "    longitude='mean(longitude)',\n",
    "    count='count()',\n",
    "    groupby=['state']\n",
    ").mark_circle().encode(\n",
    "    longitude='longitude:Q',\n",
    "    latitude='latitude:Q',\n",
    "    size=alt.Size('count:Q', title='Number of Airports'),\n",
    "    color=alt.value('steelblue'),\n",
    "    tooltip=['state:N','count:Q']\n",
    ").properties(\n",
    "    title='Number of airports in US'\n",
    ")\n",
    "\n",
    "background + points"
   ]
  },
  {
   "cell_type": "markdown",
   "metadata": {},
   "source": [
    "# Choropleth\n",
    "\n",
    "[Altair Choropleth Map example](https://altair-viz.github.io/gallery/choropleth.html)"
   ]
  },
  {
   "cell_type": "code",
   "execution_count": null,
   "metadata": {},
   "outputs": [],
   "source": [
    "counties = alt.topo_feature(data.us_10m.url, feature='counties')\n",
    "source = data.unemployment.url\n",
    "\n",
    "alt.Chart(counties).mark_geoshape().encode(\n",
    "    color='rate:Q'\n",
    ").transform_lookup(\n",
    "    lookup='id',\n",
    "    from_=alt.LookupData(source, 'id', ['rate'])\n",
    ").project(\n",
    "    type='albersUsa'\n",
    ").properties(\n",
    "    width=500,\n",
    "    height=300\n",
    ")"
   ]
  },
  {
   "cell_type": "markdown",
   "metadata": {},
   "source": [
    "---\n",
    "\n",
    "# Exercises"
   ]
  },
  {
   "cell_type": "markdown",
   "metadata": {},
   "source": [
    "## 🤔 Exercise 1\n",
    "\n",
    "Create a map of Locations of US airports (same as Dot map example but not aggregated)\n",
    "\n",
    "- duplicate Dot map example\n",
    "- remove `transform_aggregate`\n",
    "- remove encodings for `size` and `color`,\n",
    "- set mark `size` to 10\n",
    "- add tooltips for 'name', 'city', 'state'"
   ]
  },
  {
   "cell_type": "code",
   "execution_count": null,
   "metadata": {},
   "outputs": [],
   "source": [
    "import altair as alt\n",
    "from vega_datasets import data\n"
   ]
  },
  {
   "cell_type": "markdown",
   "metadata": {},
   "source": [
    "## 🤔 Exercise 2\n",
    "\n",
    "Create a map of US state capitals in the `us-state-capitals.json` dataset.\n",
    "\n",
    "- duplicate Dot map example\n",
    "- load `us-state-capitals.json` in a dataframe\n",
    "- adapt `mark_circle` to use capitals  \n",
    "- set tooltips to `'city', 'state', 'lat', 'lon'`"
   ]
  },
  {
   "cell_type": "code",
   "execution_count": null,
   "metadata": {},
   "outputs": [],
   "source": [
    "import pandas as pd\n",
    "import altair as alt\n",
    "from vega_datasets import data\n",
    "\n",
    "capitals = pd.read_json('data/us-state-capitals.json')\n",
    "capitals.head()\n"
   ]
  },
  {
   "cell_type": "markdown",
   "metadata": {},
   "source": [
    "## 🤔 Exercise 3\n",
    "\n",
    "Create a proportional symbol map of the `500_Cities__City-level_Data__GIS_Friendly_Format___2018_release.csv` dataset.\n",
    "\n",
    "- duplicate Dot map example\n",
    "- load `500_Cities__City-level_Data__GIS_Friendly_Format___2018_release.csv` in a dataframe\n",
    "- adapt `mark_circle` to use `cities`\n",
    "- set`size` to `Population2010` in `mark_circle.encode`\n",
    "- set tooltips to 'PlaceName', 'StateAbbr'\n",
    "\n",
    "`500_Cities__City-level_Data__GIS_Friendly_Format___2018_release.csv` was download from [Data.gov 500 Cities: City-level Data](https://catalog.data.gov/dataset/500-cities-city-level-data-gis-friendly-format-845f9)"
   ]
  },
  {
   "cell_type": "code",
   "execution_count": null,
   "metadata": {},
   "outputs": [],
   "source": [
    "import pandas as pd\n",
    "import altair as alt\n",
    "from vega_datasets import data\n",
    "\n",
    "cities = pd.read_csv('data/500_Cities__City-level_Data__GIS_Friendly_Format___2018_release.csv')\n",
    "\n",
    "#use Pandas to convert `Geolocation` to `lat` and `lon` with\n",
    "import numpy as np\n",
    "ll = cities.Geolocation.str.split(\",\", expand = True)\n",
    "cities['lat'] = ll[0].str.replace('(', '').astype(np.float64)\n",
    "cities['lon'] = ll[1].str.replace(')', '').astype(np.float64)\n",
    "cities.head()\n"
   ]
  }
 ],
 "metadata": {
  "colab": {
   "collapsed_sections": [],
   "name": "7-Graphing with Altair.ipynb",
   "provenance": [],
   "toc_visible": true
  },
  "kernelspec": {
   "display_name": "Python 3",
   "language": "python",
   "name": "python3"
  },
  "language_info": {
   "codemirror_mode": {
    "name": "ipython",
    "version": 3
   },
   "file_extension": ".py",
   "mimetype": "text/x-python",
   "name": "python",
   "nbconvert_exporter": "python",
   "pygments_lexer": "ipython3",
   "version": "3.8.2"
  }
 },
 "nbformat": 4,
 "nbformat_minor": 4
}
