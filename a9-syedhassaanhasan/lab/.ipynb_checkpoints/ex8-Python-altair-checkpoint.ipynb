{
 "cells": [
  {
   "cell_type": "markdown",
   "metadata": {
    "colab_type": "text",
    "id": "pg5tXiLIJNdH"
   },
   "source": [
    "# 🏋 ex8 Python altair\n",
    "\n",
    "Import altair"
   ]
  },
  {
   "cell_type": "code",
   "execution_count": null,
   "metadata": {
    "colab": {},
    "colab_type": "code",
    "id": "xqjxs15NJNdC"
   },
   "outputs": [],
   "source": [
    "import altair as alt"
   ]
  },
  {
   "cell_type": "markdown",
   "metadata": {
    "colab_type": "text",
    "id": "h4qN4-gmJNdP"
   },
   "source": [
    "Let's use datasets from [vega_datasets](https://github.com/vega/vega-datasets)"
   ]
  },
  {
   "cell_type": "code",
   "execution_count": null,
   "metadata": {
    "colab": {},
    "colab_type": "code",
    "id": "nOAijMoyJNdP"
   },
   "outputs": [],
   "source": [
    "from vega_datasets import data\n",
    "cars = data.cars()\n",
    "cars.head()"
   ]
  },
  {
   "cell_type": "markdown",
   "metadata": {
    "colab_type": "text",
    "id": "zc3ckDZK-J0t"
   },
   "source": [
    "# Scatterplot\n",
    "\n",
    "Minimal scatterplot using `cars` dataset:"
   ]
  },
  {
   "cell_type": "code",
   "execution_count": null,
   "metadata": {
    "colab": {},
    "colab_type": "code",
    "id": "b03ZsocO9qas"
   },
   "outputs": [],
   "source": [
    "alt.Chart(cars).mark_point().encode(x='Miles_per_Gallon', y='Horsepower')"
   ]
  },
  {
   "cell_type": "markdown",
   "metadata": {
    "colab_type": "text",
    "id": "xomLufhNJRre"
   },
   "source": [
    "With `circles` marks:"
   ]
  },
  {
   "cell_type": "code",
   "execution_count": null,
   "metadata": {
    "colab": {},
    "colab_type": "code",
    "id": "n5gSQ6vVbaFF"
   },
   "outputs": [],
   "source": [
    "alt.Chart(cars).mark_circle(\n",
    "        opacity=0.5  #transparent circles\n",
    "    ).encode(x='Miles_per_Gallon', y='Horsepower')"
   ]
  },
  {
   "cell_type": "markdown",
   "metadata": {
    "colab_type": "text",
    "id": "oVjg-U3mJNdV"
   },
   "source": [
    "# Bar chart\n",
    "Bar chart of car models counts per `Origin`"
   ]
  },
  {
   "cell_type": "code",
   "execution_count": null,
   "metadata": {
    "colab": {},
    "colab_type": "code",
    "id": "mL0EPQ4zXWJS"
   },
   "outputs": [],
   "source": [
    "alt.Chart(cars).mark_bar().encode(x='Origin', y='count(Origin)')"
   ]
  },
  {
   "cell_type": "markdown",
   "metadata": {
    "colab_type": "text",
    "id": "s8dIVB3BpSAM"
   },
   "source": [
    "Same with dataframe of counts"
   ]
  },
  {
   "cell_type": "code",
   "execution_count": null,
   "metadata": {
    "colab": {},
    "colab_type": "code",
    "id": "vRhO8BbhoONn"
   },
   "outputs": [],
   "source": [
    "#create a dataframe of counts\n",
    "origin_counts = cars[['Origin']].groupby('Origin').size().reset_index(name='counts')\n",
    "origin_counts\n",
    "\n",
    "alt.Chart(origin_counts).mark_bar().encode(x='Origin', y='counts')"
   ]
  },
  {
   "cell_type": "markdown",
   "metadata": {
    "colab_type": "text",
    "id": "2pApGTZCFW6t"
   },
   "source": [
    "With labels rotated and sized"
   ]
  },
  {
   "cell_type": "code",
   "execution_count": null,
   "metadata": {
    "colab": {},
    "colab_type": "code",
    "id": "jApn7qkyJNdV"
   },
   "outputs": [],
   "source": [
    "alt.Chart(cars, width=300).mark_bar().encode(\n",
    "  x=alt.X('Origin', axis = alt.Axis(labelAngle=0)),\n",
    "  y='count(Origin)')"
   ]
  },
  {
   "cell_type": "markdown",
   "metadata": {},
   "source": [
    "# Boxplot"
   ]
  },
  {
   "cell_type": "code",
   "execution_count": null,
   "metadata": {},
   "outputs": [],
   "source": [
    "alt.Chart(cars).mark_boxplot().encode(\n",
    "    x='Origin',\n",
    "    y='Miles_per_Gallon'\n",
    ")"
   ]
  },
  {
   "cell_type": "markdown",
   "metadata": {
    "colab_type": "text",
    "id": "ZuKzUidWsRrv"
   },
   "source": [
    "# Histogram"
   ]
  },
  {
   "cell_type": "code",
   "execution_count": null,
   "metadata": {
    "colab": {},
    "colab_type": "code",
    "id": "E95q-stcDJ1U"
   },
   "outputs": [],
   "source": [
    "alt.Chart(cars).mark_bar().encode(\n",
    "    alt.X(\"Miles_per_Gallon\", bin=True),\n",
    "    y='count()')"
   ]
  },
  {
   "cell_type": "markdown",
   "metadata": {},
   "source": [
    "# Line chart"
   ]
  },
  {
   "cell_type": "code",
   "execution_count": null,
   "metadata": {},
   "outputs": [],
   "source": [
    "import pandas as pd  #import pandas\n",
    "import numpy as np  #import numpy\n",
    "\n",
    "x = np.linspace(0, 100, 5)\n",
    "y = x * x\n",
    "\n",
    "df = pd.DataFrame({\n",
    "    'x' : x,\n",
    "    'y' : y\n",
    "    })\n",
    "\n",
    "alt.Chart(df).mark_line().encode(\n",
    "    alt.X('x'),\n",
    "    alt.Y('y'))"
   ]
  },
  {
   "cell_type": "markdown",
   "metadata": {
    "colab_type": "text",
    "id": "--HaRD6MZ4ZD"
   },
   "source": [
    "# Customizations\n",
    "- Axis labels\n",
    "- Transparency\n",
    "- Title\n",
    "- Tooltips\n",
    "- Axis range\n",
    "- Interactive"
   ]
  },
  {
   "cell_type": "code",
   "execution_count": null,
   "metadata": {
    "colab": {},
    "colab_type": "code",
    "id": "kqk7JeX0Z5ck"
   },
   "outputs": [],
   "source": [
    "alt.Chart(cars).mark_circle(opacity=0.5).encode(\n",
    "  x=alt.X('Miles_per_Gallon', axis=alt.Axis(title='Miles per gallon'), scale=alt.Scale(zero=False)),\n",
    "  y=alt.Y('Horsepower', axis=alt.Axis(title='Horsepower'), scale=alt.Scale(zero=False)),  \n",
    "  color=alt.Color('Origin', legend=alt.Legend(title=\"Origin\")),\n",
    "  tooltip = ['Miles_per_Gallon', 'Horsepower']\n",
    "  ).properties(\n",
    "    title='Cars Data',\n",
    "    width=300,\n",
    "    height=180\n",
    "  ).interactive()"
   ]
  },
  {
   "cell_type": "markdown",
   "metadata": {},
   "source": [
    "---\n",
    "\n",
    "# Exercises"
   ]
  },
  {
   "cell_type": "markdown",
   "metadata": {},
   "source": [
    "## 😜 Exercise 1\n",
    "\n",
    "Create a scatterplot of the `iris` dataset:\n",
    "\n",
    " - map `x` to `sepalLength`\n",
    " - map `y` to `sepalWidth`\n",
    " - map `color` to `species`\n",
    " - set x axis label to 'Sepal length (cm)'\n",
    " - set y axis label to 'Sepal width (cm)'\n",
    " - set title label to 'Iris dataset'"
   ]
  },
  {
   "cell_type": "code",
   "execution_count": null,
   "metadata": {},
   "outputs": [],
   "source": [
    "import altair as alt\n",
    "\n",
    "from vega_datasets import data\n",
    "df = data.iris()\n"
   ]
  },
  {
   "cell_type": "markdown",
   "metadata": {},
   "source": [
    "## 😜 Exercise 2\n",
    "\n",
    "Create a scatterplot of the `iris` dataset:\n",
    "\n",
    " - map `x` to `sepalLength`\n",
    " - map `y` to `sepalWidth`\n",
    " - map `color` to `species`\n",
    " - map `size` to `petalLength`\n",
    " - set `color` to `species`\n",
    " - set Color legend `title` to `Species by color`\n",
    " - set x axis label to 'Sepal length (cm)'\n",
    " - set y axis label to 'Sepal width (cm)'\n",
    " - set title label to 'Iris dataset'"
   ]
  },
  {
   "cell_type": "code",
   "execution_count": null,
   "metadata": {},
   "outputs": [],
   "source": [
    "import altair as alt\n",
    "from vega_datasets import data\n",
    "df = data.iris()\n"
   ]
  },
  {
   "cell_type": "markdown",
   "metadata": {},
   "source": [
    "## 🤔 Exercise 3\n",
    "\n",
    "Create a scatterplot of the `SMO-VOR-2015.csv` dataset:\n",
    "\n",
    " - load `SMO-VOR-2015.csv` in a dataframe\n",
    " - map `x` to `ptime`\n",
    " - map `y` to `alt`\n",
    " - set the mark `opacity` to `0.1`\n",
    " - set x axis label to 'Penetration time'\n",
    " - set y axis label to 'Altitude (feets)'\n",
    " - set title label to 'SMO VOR 2015 dataset'\n",
    " - add tooltips for 'ptime', 'flight', 'icao', 'ops'\n",
    " - make the plot interactive"
   ]
  },
  {
   "cell_type": "code",
   "execution_count": null,
   "metadata": {},
   "outputs": [],
   "source": [
    "import pandas as pd\n",
    "df = pd.read_csv('data/SMO-VOR-2015.csv')\n",
    "\n",
    "import altair as alt\n",
    "\n",
    "df.ptime = pd.to_datetime(df.ptime)\n",
    "alt.data_transformers.disable_max_rows()\n"
   ]
  },
  {
   "cell_type": "markdown",
   "metadata": {},
   "source": [
    "## 😜 Exercise 4\n",
    "\n",
    "Create a boxplot of the `SMO-VOR-2015.csv` dataset:\n",
    "\n",
    " - load `SMO-VOR-2015.csv` in a dataframe\n",
    " - map `x` to `month`\n",
    " - map `y` to `alt`\n",
    " - map `color` to `month`\n",
    " - set x axis `title` to None\n",
    " - set y axis `title` to 'Altitude (feets)'\n",
    " - set title label to 'SMO VOR 2015 dataset'"
   ]
  },
  {
   "cell_type": "code",
   "execution_count": null,
   "metadata": {},
   "outputs": [],
   "source": [
    "import pandas as pd\n",
    "import altair as alt\n",
    "\n",
    "df = pd.read_csv('data/SMO-VOR-2015.csv')\n",
    "\n",
    "months = ['Jan','Feb','Mar','Apr','May','Jun','Jul','Aug','Sep','Oct','Nov','Dec']\n",
    "df.month = pd.Categorical(df.month, ordered=True, categories=months)\n",
    "alt.data_transformers.disable_max_rows()\n"
   ]
  },
  {
   "cell_type": "markdown",
   "metadata": {},
   "source": [
    "## 🤔 Exercise 5\n",
    "\n",
    "Create a histogram of the `SMO-VOR-2015.csv` dataset:\n",
    "\n",
    " - load `SMO-VOR-2015.csv` in a dataframe\n",
    " - map `x` to `alt`\n",
    " - set x axis label to 'Altitude (feets)'\n",
    " - set y axis label to 'Counts'\n",
    " - set title label to 'SMO VOR 2015 dataset'\n",
    "```"
   ]
  },
  {
   "cell_type": "code",
   "execution_count": null,
   "metadata": {},
   "outputs": [],
   "source": [
    "import pandas as pd\n",
    "import altair as alt\n",
    "\n",
    "df = pd.read_csv('data/SMO-VOR-2015.csv')\n",
    "\n",
    "alt.data_transformers.disable_max_rows()  #needed because of dataset size\n"
   ]
  },
  {
   "cell_type": "markdown",
   "metadata": {},
   "source": [
    "## 😜 Exercise 6\n",
    "\n",
    "Create a histograms of the `SMO-VOR-2015.csv` dataset faceted by month:\n",
    "\n",
    " - load `SMO-VOR-2015.csv` in a dataframe\n",
    " - map `x` to `alt`\n",
    " - set x axis label to 'Altitude (feets)'\n",
    " - set y axis label to 'Counts'\n",
    " - set title label to 'SMO VOR 2015 dataset'\n",
    " - add faceting with `facet=alt.Facet('month', sort=months)` encoding\n"
   ]
  },
  {
   "cell_type": "code",
   "execution_count": null,
   "metadata": {},
   "outputs": [],
   "source": [
    "import pandas as pd\n",
    "import altair as alt\n",
    "\n",
    "df = pd.read_csv('data/SMO-VOR-2015.csv')\n",
    "\n",
    "alt.data_transformers.disable_max_rows()  #needed because of dataset size\n"
   ]
  }
 ],
 "metadata": {
  "colab": {
   "collapsed_sections": [],
   "name": "7-Graphing with Altair.ipynb",
   "provenance": [],
   "toc_visible": true
  },
  "kernelspec": {
   "display_name": "Python 3",
   "language": "python",
   "name": "python3"
  },
  "language_info": {
   "codemirror_mode": {
    "name": "ipython",
    "version": 3
   },
   "file_extension": ".py",
   "mimetype": "text/x-python",
   "name": "python",
   "nbconvert_exporter": "python",
   "pygments_lexer": "ipython3",
   "version": "3.8.2"
  }
 },
 "nbformat": 4,
 "nbformat_minor": 4
}
