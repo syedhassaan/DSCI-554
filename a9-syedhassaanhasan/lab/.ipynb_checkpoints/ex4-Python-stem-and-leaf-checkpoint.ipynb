{
 "cells": [
  {
   "cell_type": "markdown",
   "metadata": {
    "colab_type": "text",
    "id": "Bqhs501V0Nt3"
   },
   "source": [
    "# 🏋 ex4 Python stem-and-leaf"
   ]
  },
  {
   "cell_type": "markdown",
   "metadata": {
    "colab_type": "text",
    "id": "QDF2YtYAeg8Z"
   },
   "source": [
    "# stemgraphic"
   ]
  },
  {
   "cell_type": "code",
   "execution_count": null,
   "metadata": {
    "colab": {},
    "colab_type": "code",
    "id": "t4-9WRDDr2Hl"
   },
   "outputs": [],
   "source": [
    "!pip install -q stemgraphic  #only needed once"
   ]
  },
  {
   "cell_type": "code",
   "execution_count": null,
   "metadata": {
    "colab": {},
    "colab_type": "code",
    "id": "Oq-Yz9mAsJXB"
   },
   "outputs": [],
   "source": [
    "import stemgraphic as sg"
   ]
  },
  {
   "cell_type": "markdown",
   "metadata": {},
   "source": [
    "See `?sg.stem_graphic`"
   ]
  },
  {
   "cell_type": "code",
   "execution_count": null,
   "metadata": {
    "colab": {},
    "colab_type": "code",
    "id": "4S1oJixUeByM"
   },
   "outputs": [],
   "source": [
    "sg.stem_graphic([1, 3, 5, 10, 17, 17])"
   ]
  },
  {
   "cell_type": "markdown",
   "metadata": {
    "colab_type": "text",
    "id": "1pNmriyPfJkz"
   },
   "source": [
    "Same using a Pandas dataframe"
   ]
  },
  {
   "cell_type": "code",
   "execution_count": null,
   "metadata": {
    "colab": {},
    "colab_type": "code",
    "id": "Udc1PWLk1JnA"
   },
   "outputs": [],
   "source": [
    "import pandas as pd\n",
    "\n",
    "df = pd.Series([1, 3, 5, 10, 17, 17])\n",
    "\n",
    "sg.stem_graphic(df)"
   ]
  },
  {
   "cell_type": "markdown",
   "metadata": {},
   "source": [
    "Customizations"
   ]
  },
  {
   "cell_type": "code",
   "execution_count": null,
   "metadata": {},
   "outputs": [],
   "source": [
    "sg.stem_graphic(df, compact=True, asc=False, unit=\"unit\", title=\"Title\")"
   ]
  },
  {
   "cell_type": "markdown",
   "metadata": {
    "colab_type": "text",
    "id": "jZRsMaY3ep8S"
   },
   "source": [
    "# Matplotlib stem\n",
    "\n",
    "`stem` plots vertical lines from a baseline to the y-coordinate and places a marker at the tip (lollipop chart)."
   ]
  },
  {
   "cell_type": "code",
   "execution_count": null,
   "metadata": {
    "colab": {},
    "colab_type": "code",
    "id": "gU7bihGCzrK3"
   },
   "outputs": [],
   "source": [
    "import matplotlib.pyplot as plt\n",
    "\n",
    "?plt.stem"
   ]
  },
  {
   "cell_type": "markdown",
   "metadata": {},
   "source": [
    "Example `stem` plot"
   ]
  },
  {
   "cell_type": "code",
   "execution_count": null,
   "metadata": {
    "colab": {},
    "colab_type": "code",
    "id": "gU7bihGCzrK3"
   },
   "outputs": [],
   "source": [
    "plt.stem([1, 3, 5, 10, 17, 17], use_line_collection = True)"
   ]
  },
  {
   "cell_type": "markdown",
   "metadata": {
    "colab_type": "text",
    "id": "21iLoIswHZT6"
   },
   "source": [
    "Customizations"
   ]
  },
  {
   "cell_type": "code",
   "execution_count": null,
   "metadata": {
    "colab": {},
    "colab_type": "code",
    "id": "zluJhkTxHdOO"
   },
   "outputs": [],
   "source": [
    "plt.rcParams[\"figure.figsize\"] = (2, 2)  #set figure size\n",
    "\n",
    "plt.stem([1, 3, 5, 10, 17, 17], bottom = 5, use_line_collection = True)"
   ]
  },
  {
   "cell_type": "markdown",
   "metadata": {},
   "source": [
    "---\n",
    "\n",
    "# Exercises"
   ]
  },
  {
   "cell_type": "markdown",
   "metadata": {},
   "source": [
    "## 😜 Exercise 1\n",
    "\n",
    "- Load `heart-decease.cleveland.csv` in a dataframe\n",
    "- Use `stem_graphic` to create a stem-and-leaf plot of the `chol` variable\n",
    "- Set `title = 'Cleveland dataset'`\n",
    "- Set `unit = 'mg/dl'`\n",
    "- Set `asc = False`\n",
    "- Set `compact = True`"
   ]
  },
  {
   "cell_type": "code",
   "execution_count": 2,
   "metadata": {},
   "outputs": [],
   "source": [
    "import pandas as pd\n",
    "import stemgraphic as sg\n"
   ]
  },
  {
   "cell_type": "markdown",
   "metadata": {},
   "source": [
    "## 😜 Exercise 2\n",
    "\n",
    "- Load `heart-decease.cleveland.csv` in a dataframe\n",
    "- Use `matplotlib.pyplot.stem` to create a lollipop chart of the `chol` variable\n",
    "- Resize the figure `plt.figure(figsize = (10, 5))`"
   ]
  },
  {
   "cell_type": "code",
   "execution_count": null,
   "metadata": {},
   "outputs": [],
   "source": [
    "import pandas as pd\n",
    "import matplotlib.pyplot as plt\n"
   ]
  }
 ],
 "metadata": {
  "colab": {
   "collapsed_sections": [],
   "name": "1-Stem-and-leaf plots.ipynb",
   "provenance": [],
   "toc_visible": true
  },
  "kernelspec": {
   "display_name": "Python 3",
   "language": "python",
   "name": "python3"
  },
  "language_info": {
   "codemirror_mode": {
    "name": "ipython",
    "version": 3
   },
   "file_extension": ".py",
   "mimetype": "text/x-python",
   "name": "python",
   "nbconvert_exporter": "python",
   "pygments_lexer": "ipython3",
   "version": "3.8.2"
  }
 },
 "nbformat": 4,
 "nbformat_minor": 4
}
