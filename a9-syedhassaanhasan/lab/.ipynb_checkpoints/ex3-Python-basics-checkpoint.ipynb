{
 "cells": [
  {
   "cell_type": "markdown",
   "metadata": {
    "colab_type": "text",
    "id": "pg5tXiLIJNdH"
   },
   "source": [
    "# 🏋 ex3 Python basics"
   ]
  },
  {
   "cell_type": "markdown",
   "metadata": {
    "colab_type": "text",
    "id": "uBYJMFrX_M1u"
   },
   "source": [
    "\n",
    "## Getting help\n",
    "\n",
    "You can access the help by executing the cell but getting help in a separate Python Console is less distracting."
   ]
  },
  {
   "cell_type": "code",
   "execution_count": null,
   "metadata": {},
   "outputs": [],
   "source": [
    "help('list')  #Help on class list in module builtins\n",
    "?list  #prints code documentation"
   ]
  },
  {
   "cell_type": "markdown",
   "metadata": {
    "colab_type": "text",
    "id": "h4qN4-gmJNdP"
   },
   "source": [
    "## Python as a calculator"
   ]
  },
  {
   "cell_type": "code",
   "execution_count": null,
   "metadata": {
    "colab": {},
    "colab_type": "code",
    "id": "nOAijMoyJNdP"
   },
   "outputs": [],
   "source": [
    "2 * 15 + 10"
   ]
  },
  {
   "cell_type": "markdown",
   "metadata": {
    "colab_type": "text",
    "id": "e6T0ek6PJNdi"
   },
   "source": [
    "## Basic Types data structures"
   ]
  },
  {
   "cell_type": "code",
   "execution_count": null,
   "metadata": {
    "colab": {},
    "colab_type": "code",
    "id": "DmJ_Wzk-3NJe"
   },
   "outputs": [],
   "source": [
    "s1 = 'Hello'  #a string\n",
    "\n",
    "s2 = \" Python!\"  #another string \n",
    "\n",
    "s3 = ''' Python\n",
    "is fun'''  #a multiline string\n",
    "\n",
    "a = 1  #int\n",
    "\n",
    "b = 2.0  #float\n",
    "\n",
    "c = True  #boolean true\n",
    "\n",
    "d = False  #boolean false\n",
    "\n",
    "print(s1 + s2 + s3)\n",
    "\n",
    "print('a=' + str(a))\n",
    "\n",
    "print('b is equal to', b, 'c and d are booleans equal to', c, 'and', d)\n",
    "\n",
    "mylist = [1, 2.0, \"3\", '3', True, False]  #a list\n",
    "\n",
    "print('mylist is', mylist)\n",
    "\n",
    "mylist[0]  #indices start at 0!\n",
    "\n",
    "#a dictionary map\n",
    "mymap = {'setosa': '#a6cee3', 'versicolor': '#1f78b4', 'virginica': '#b2df8a'}\n",
    "\n",
    "print('mymap is', mymap)"
   ]
  },
  {
   "cell_type": "markdown",
   "metadata": {
    "colab_type": "text",
    "id": "oVjg-U3mJNdV"
   },
   "source": [
    "## Functions"
   ]
  },
  {
   "cell_type": "code",
   "execution_count": null,
   "metadata": {
    "colab": {},
    "colab_type": "code",
    "id": "jApn7qkyJNdV"
   },
   "outputs": [],
   "source": [
    "def f(x):  #declare f\n",
    "    return x * x\n",
    "\n",
    "f(2)  #call f with argument 2"
   ]
  },
  {
   "cell_type": "markdown",
   "metadata": {
    "colab_type": "text",
    "id": "eiu-b8ZnJNeY"
   },
   "source": [
    "## Packages\n",
    "\n",
    "[NumPy](http://www.numpy.org) (N-dimensional array objects) and [Pandas](http://pandas.pydata.org) (dataframes built with NumPy) are the most relevant for data visualizations."
   ]
  },
  {
   "cell_type": "code",
   "execution_count": null,
   "metadata": {
    "colab": {},
    "colab_type": "code",
    "id": "-aKVYWFHJNeY"
   },
   "outputs": [],
   "source": [
    "import numpy as np  #import numpy\n",
    "import pandas as pd  #import pandas"
   ]
  },
  {
   "cell_type": "markdown",
   "metadata": {},
   "source": [
    "Create a numpy array"
   ]
  },
  {
   "cell_type": "code",
   "execution_count": null,
   "metadata": {
    "colab": {},
    "colab_type": "code",
    "id": "XRL--CG-RYVL"
   },
   "outputs": [],
   "source": [
    "arr = np.arange(6)  #?np.arange: Return evenly spaced values within a given interval.\n",
    "np.random.shuffle(arr)\n",
    "display(arr.size)\n",
    "arr"
   ]
  },
  {
   "cell_type": "markdown",
   "metadata": {},
   "source": [
    "Create a panda dataframe from numpy array"
   ]
  },
  {
   "cell_type": "code",
   "execution_count": null,
   "metadata": {
    "colab": {},
    "colab_type": "code",
    "id": "XRL--CG-RYVL"
   },
   "outputs": [],
   "source": [
    "df = pd.DataFrame(arr)  #create Pandas dataframe from arr data\n",
    "df"
   ]
  },
  {
   "cell_type": "markdown",
   "metadata": {},
   "source": [
    "Create a pandas dataframe with typed and named columns. Note that `pd.Categorical` is the equivalent of R `factors`."
   ]
  },
  {
   "cell_type": "code",
   "execution_count": null,
   "metadata": {
    "colab": {},
    "colab_type": "code",
    "id": "SkdRwijsA47a"
   },
   "outputs": [],
   "source": [
    "df = pd.DataFrame({\n",
    "    'A' : pd.Series([1, 2, 3, 4, 5, 6]),\n",
    "    'B' : pd.Timestamp('20201001'),\n",
    "    'C' : pd.Categorical(['male', 'female', 'female', 'female', 'male', 'male']),\n",
    "    'D' : 'foo'})\n",
    "\n",
    "display(df.C)\n",
    "\n",
    "display(df.head())  #display first 5 rows\n",
    "display(df.tail())  #last 5 rows\n",
    "\n",
    "df.columns  #list columns names"
   ]
  },
  {
   "cell_type": "markdown",
   "metadata": {},
   "source": [
    "Accessing dataframe elements"
   ]
  },
  {
   "cell_type": "code",
   "execution_count": null,
   "metadata": {
    "colab": {},
    "colab_type": "code",
    "id": "SkdRwijsA47a"
   },
   "outputs": [],
   "source": [
    "display(df.A)  #this is the preferred way to access column A\n",
    "display(df.C[1])  #access by df[column = 'C'][row = 1]"
   ]
  },
  {
   "cell_type": "markdown",
   "metadata": {},
   "source": [
    "Alternate way to access dataframe elements (sometimes needed, e.g., when creating a new column)"
   ]
  },
  {
   "cell_type": "code",
   "execution_count": null,
   "metadata": {
    "colab": {},
    "colab_type": "code",
    "id": "SkdRwijsA47a"
   },
   "outputs": [],
   "source": [
    "display(df['A'])  #access df[column = 'A']\n",
    "display(df['C'][1])  #access df[column = 'C'][row = 1]"
   ]
  },
  {
   "cell_type": "markdown",
   "metadata": {
    "colab_type": "text",
    "id": "C_Q9HYpUR1ar"
   },
   "source": [
    "# Working with Data"
   ]
  },
  {
   "cell_type": "markdown",
   "metadata": {
    "colab_type": "text",
    "id": "IsQZAOwACaEN"
   },
   "source": [
    "## Load a dataset from a package"
   ]
  },
  {
   "cell_type": "code",
   "execution_count": null,
   "metadata": {
    "colab": {},
    "colab_type": "code",
    "id": "D7q208fcTK_b"
   },
   "outputs": [],
   "source": [
    "from sklearn import datasets\n",
    "iris = datasets.load_iris()  #see the help: help(datasets)\n",
    "\n",
    "df = pd.DataFrame(iris.data)  #create dataframe from iris.data\n",
    "df.head()"
   ]
  },
  {
   "cell_type": "markdown",
   "metadata": {},
   "source": [
    "## Load a dataset in CSV format"
   ]
  },
  {
   "cell_type": "code",
   "execution_count": null,
   "metadata": {
    "colab": {},
    "colab_type": "code",
    "id": "TcWebixv4BrZ"
   },
   "outputs": [],
   "source": [
    "import pandas as pd  #import pandas\n",
    "\n",
    "df = pd.read_csv(\"data/heart-decease-cleveland.csv\")\n",
    "df.head()"
   ]
  },
  {
   "cell_type": "markdown",
   "metadata": {
    "colab_type": "text",
    "id": "RQDZ6BX3s-Q5"
   },
   "source": [
    "## List files in your drive:"
   ]
  },
  {
   "cell_type": "code",
   "execution_count": null,
   "metadata": {
    "colab": {},
    "colab_type": "code",
    "id": "vHKFSUtZs_Mp"
   },
   "outputs": [],
   "source": [
    "!ls \"./\""
   ]
  },
  {
   "cell_type": "markdown",
   "metadata": {
    "colab_type": "text",
    "id": "W4w7ydu4t8IX"
   },
   "source": [
    "# Basic stats"
   ]
  },
  {
   "cell_type": "markdown",
   "metadata": {
    "colab_type": "text",
    "id": "ROsW9aDysdoH"
   },
   "source": [
    "## Descriptive statistics"
   ]
  },
  {
   "cell_type": "code",
   "execution_count": null,
   "metadata": {
    "colab": {},
    "colab_type": "code",
    "id": "46EJ_pwqJNee"
   },
   "outputs": [],
   "source": [
    "df = pd.read_csv(\"data/heart-decease-cleveland.csv\")\n",
    "df.describe()"
   ]
  },
  {
   "cell_type": "markdown",
   "metadata": {
    "colab_type": "text",
    "id": "0ZwVTAwjuJEs"
   },
   "source": [
    "## Frequency table"
   ]
  },
  {
   "cell_type": "code",
   "execution_count": null,
   "metadata": {
    "colab": {},
    "colab_type": "code",
    "id": "mHb5myA_cLam"
   },
   "outputs": [],
   "source": [
    "arr = np.random.uniform(0, 100, 100)\n",
    "\n",
    "df = pd.DataFrame({\n",
    "    'Variable' : pd.Series(arr)\n",
    "})\n",
    "\n",
    "df['bin'] = pd.cut(df.Variable, [0, 20, 40, 60, 80, 100])\n",
    "df = pd.value_counts(df.bin)  #count values for df.bin\n",
    "df = df.to_frame('count').reset_index()\n",
    "df = df.sort_values('index')\n",
    "df['rf'] = df['count'] / len(df)\n",
    "df['cf'] = df['rf'].cumsum()\n",
    "\n",
    "df.columns = ['Value', 'No.', 'Rel. Freq.', 'Cum. Freq.']\n",
    "\n",
    "df.reset_index(drop=True, inplace=True)\n",
    "\n",
    "df"
   ]
  },
  {
   "cell_type": "code",
   "execution_count": null,
   "metadata": {},
   "outputs": [],
   "source": []
  },
  {
   "cell_type": "markdown",
   "metadata": {},
   "source": [
    "---\n",
    "\n",
    "# Exercises"
   ]
  },
  {
   "cell_type": "markdown",
   "metadata": {},
   "source": [
    "## 😜 Exercise 1 \n",
    "\n",
    "- Create a dataframe for the values `0, 1, 1, 2, 2, 3, 4, 15`\n",
    "- use `df.describe()` to compute descriptive statistics"
   ]
  },
  {
   "cell_type": "code",
   "execution_count": null,
   "metadata": {},
   "outputs": [],
   "source": [
    "import numpy as np\n",
    "import pandas as pd\n",
    "\n"
   ]
  },
  {
   "cell_type": "markdown",
   "metadata": {},
   "source": [
    "## 😜 Exercise 2 \n",
    "\n",
    "- Load `heart-decease-cleveland.csv` in a dataframe\n",
    "- use `df.describe()` to compute descriptive statistics of all the variables"
   ]
  },
  {
   "cell_type": "code",
   "execution_count": null,
   "metadata": {},
   "outputs": [],
   "source": [
    "import numpy as np\n",
    "import pandas as pd\n",
    "\n"
   ]
  },
  {
   "cell_type": "markdown",
   "metadata": {},
   "source": [
    "## 🤔 Exercise 3\n",
    "\n",
    "- Load `heart-decease-cleveland.csv` in a dataframe\n",
    "- Create a frequency table of the `chol` variable for the frequency ranges:\n",
    "\n",
    "```\n",
    "(120, 160]\n",
    "(160, 200]\n",
    "(200, 240]\n",
    "(240, 280]\n",
    "(280, 320]\n",
    "(320, 360]\n",
    "(360, 400]\n",
    "(400, 440]\n",
    "```\n",
    "- set `columns` to `'Chol mg/cl', 'No.', 'Rel. Freq.', 'Cum. Freq.'`"
   ]
  },
  {
   "cell_type": "code",
   "execution_count": null,
   "metadata": {},
   "outputs": [],
   "source": [
    "import numpy as np\n",
    "import pandas as pd\n"
   ]
  }
 ],
 "metadata": {
  "colab": {
   "collapsed_sections": [],
   "name": "1-Python basics.ipynb",
   "provenance": [],
   "toc_visible": true
  },
  "kernelspec": {
   "display_name": "Python 3",
   "language": "python",
   "name": "python3"
  },
  "language_info": {
   "codemirror_mode": {
    "name": "ipython",
    "version": 3
   },
   "file_extension": ".py",
   "mimetype": "text/x-python",
   "name": "python",
   "nbconvert_exporter": "python",
   "pygments_lexer": "ipython3",
   "version": "3.8.2"
  }
 },
 "nbformat": 4,
 "nbformat_minor": 4
}
