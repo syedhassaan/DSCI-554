{
 "cells": [
  {
   "cell_type": "markdown",
   "metadata": {
    "colab_type": "text",
    "id": "pg5tXiLIJNdH"
   },
   "source": [
    "# 🏋 ex7 Python seaborn\n",
    "\n",
    "🚀 Import `Seaborn` and `Pandas`"
   ]
  },
  {
   "cell_type": "code",
   "execution_count": null,
   "metadata": {
    "colab": {},
    "colab_type": "code",
    "id": "xqjxs15NJNdC"
   },
   "outputs": [],
   "source": [
    "import numpy as np  #import numpy\n",
    "import pandas as pd  #import pandas\n",
    "import seaborn as sns"
   ]
  },
  {
   "cell_type": "markdown",
   "metadata": {
    "colab_type": "text",
    "id": "h4qN4-gmJNdP"
   },
   "source": [
    "Let's load the `iris` dataset:"
   ]
  },
  {
   "cell_type": "code",
   "execution_count": null,
   "metadata": {
    "colab": {},
    "colab_type": "code",
    "id": "nOAijMoyJNdP"
   },
   "outputs": [],
   "source": [
    "iris = pd.read_csv(\"data/iris.csv\")\n",
    "iris.head()"
   ]
  },
  {
   "cell_type": "markdown",
   "metadata": {
    "colab_type": "text",
    "id": "sd7D2N3majd4"
   },
   "source": [
    "# Scatterplot\n",
    "\n",
    "This is a minimal scatterplot with iris dataset:"
   ]
  },
  {
   "cell_type": "code",
   "execution_count": null,
   "metadata": {
    "colab": {},
    "colab_type": "code",
    "id": "_tuzTFEU2SIm"
   },
   "outputs": [],
   "source": [
    "?sns.scatterplot"
   ]
  },
  {
   "cell_type": "code",
   "execution_count": null,
   "metadata": {
    "colab": {},
    "colab_type": "code",
    "id": "b03ZsocO9qas"
   },
   "outputs": [],
   "source": [
    "sns.scatterplot(x='sepal_length', y='sepal_width', data=iris)"
   ]
  },
  {
   "cell_type": "markdown",
   "metadata": {
    "colab_type": "text",
    "id": "oVjg-U3mJNdV"
   },
   "source": [
    "# Bar chart\n",
    "This is a minimal bar chart with `iris` dataset:"
   ]
  },
  {
   "cell_type": "code",
   "execution_count": null,
   "metadata": {
    "colab": {},
    "colab_type": "code",
    "id": "dWZ6QqVTI399"
   },
   "outputs": [],
   "source": [
    "?sns.barplot"
   ]
  },
  {
   "cell_type": "code",
   "execution_count": null,
   "metadata": {
    "colab": {},
    "colab_type": "code",
    "id": "jApn7qkyJNdV"
   },
   "outputs": [],
   "source": [
    "iris_counts = iris[['species']].groupby('species').size().reset_index(name='counts')\n",
    "\n",
    "sns.barplot(x='species', y='counts', data=iris_counts)"
   ]
  },
  {
   "cell_type": "markdown",
   "metadata": {
    "colab_type": "text",
    "id": "qUqt3YL-ARhf"
   },
   "source": [
    "Another way to do it:"
   ]
  },
  {
   "cell_type": "code",
   "execution_count": null,
   "metadata": {
    "colab": {},
    "colab_type": "code",
    "id": "zyZo47MDPMR_"
   },
   "outputs": [],
   "source": [
    "#?sns.countplot\n",
    "sns.countplot(x='species', data=iris_counts)"
   ]
  },
  {
   "cell_type": "markdown",
   "metadata": {
    "colab_type": "text",
    "id": "3QiMjTSb6q3h"
   },
   "source": [
    "# Boxplot\n",
    "This is an example of minimal boxplot chart"
   ]
  },
  {
   "cell_type": "code",
   "execution_count": null,
   "metadata": {
    "colab": {},
    "colab_type": "code",
    "id": "U-keLhE88BRz"
   },
   "outputs": [],
   "source": [
    "?sns.boxplot"
   ]
  },
  {
   "cell_type": "code",
   "execution_count": null,
   "metadata": {
    "colab": {},
    "colab_type": "code",
    "id": "X1LKlKDN6yOv"
   },
   "outputs": [],
   "source": [
    "sns.boxplot(x='species', y='petal_width', data=iris)"
   ]
  },
  {
   "cell_type": "markdown",
   "metadata": {
    "colab_type": "text",
    "id": "LCcPvcSt9dcc"
   },
   "source": [
    "# Histogram\n",
    "Example of a minimal histogram"
   ]
  },
  {
   "cell_type": "code",
   "execution_count": null,
   "metadata": {
    "colab": {},
    "colab_type": "code",
    "id": "EUJSw2mw9hWc"
   },
   "outputs": [],
   "source": [
    "?sns.distplot"
   ]
  },
  {
   "cell_type": "code",
   "execution_count": null,
   "metadata": {
    "colab": {},
    "colab_type": "code",
    "id": "McpSpygZ9mVZ"
   },
   "outputs": [],
   "source": [
    "sns.distplot(iris.petal_width)"
   ]
  },
  {
   "cell_type": "markdown",
   "metadata": {},
   "source": [
    "# Line chart\n",
    "\n",
    "See `?sns.lineplot`"
   ]
  },
  {
   "cell_type": "code",
   "execution_count": null,
   "metadata": {},
   "outputs": [],
   "source": [
    "import numpy as np  #import numpy\n",
    "\n",
    "x = np.linspace(0, 100, 5)\n",
    "y = x * x\n",
    "\n",
    "df = pd.DataFrame({\n",
    "    'x' : x,\n",
    "    'y' : y\n",
    "    })\n",
    "\n",
    "sns.lineplot(df.x, df.y)"
   ]
  },
  {
   "cell_type": "markdown",
   "metadata": {
    "colab_type": "text",
    "id": "--HaRD6MZ4ZD"
   },
   "source": [
    "# Customizations\n",
    "- Axis labels\n",
    "- Title\n",
    "- color\n",
    "- Graph size\n",
    "- palette\n",
    "- point size\n",
    "- legend\n"
   ]
  },
  {
   "cell_type": "code",
   "execution_count": null,
   "metadata": {},
   "outputs": [],
   "source": [
    "import matplotlib.pyplot as plt\n",
    "plt.rcParams[\"figure.figsize\"] = (10,5)\n",
    "\n",
    "#ax is the axis object!\n",
    "ax = sns.scatterplot(x='sepal_length',\n",
    "                     y='sepal_width', \n",
    "                     hue='species',  #set color by species \n",
    "                     palette='Set2',   #use built-in color palette\n",
    "                     size='petal_length',  #mark size\n",
    "                     alpha = 0.5,  #add transparency\n",
    "                     data=iris)\n",
    "ax.set(xlabel='sepal length (cm)', \n",
    "       ylabel='sepal width (cm)', \n",
    "       title ='Iris sepal dimensions')\n",
    "\n",
    "l = ax.legend()  #set the legend title\n",
    "l.get_texts()[0].set_text('Legend Name')"
   ]
  },
  {
   "cell_type": "markdown",
   "metadata": {},
   "source": [
    "---\n",
    "\n",
    "# Exercises"
   ]
  },
  {
   "cell_type": "markdown",
   "metadata": {},
   "source": [
    "## 😜 Exercise 1\n",
    "\n",
    "Create a scatterplot of the `SMO-VOR-2015.csv` dataset:\n",
    "\n",
    " - load `SMO-VOR-2015.csv` in a dataframe\n",
    " - map `x` to `ptime`\n",
    " - map `y` to `alt`\n",
    " - set `alpha` to `0.1`\n",
    " - set `edgecolor` to None\n",
    " - set x axis label to 'Penetration time'\n",
    " - set y axis label to 'Altitude (feets)'\n",
    " - set title label to 'SMO VOR 2015 dataset'\n",
    " - resize the figure to `(10, 5)`\n",
    " - set limits on the axes using `ax.set(xlim=(df.ptime.min(), df.ptime.max()))`"
   ]
  },
  {
   "cell_type": "code",
   "execution_count": null,
   "metadata": {},
   "outputs": [],
   "source": [
    "import pandas as pd\n",
    "import seaborn as sns\n",
    "import matplotlib.pyplot as plt\n",
    "\n",
    "df = pd.read_csv('data/SMO-VOR-2015.csv')\n",
    "df.ptime = pd.to_datetime(df.ptime)\n",
    "\n",
    "\n",
    "\n",
    " \n"
   ]
  },
  {
   "cell_type": "markdown",
   "metadata": {},
   "source": [
    "## 😜 Exercise 2\n",
    "\n",
    "Create a bar chart of the `SMO-VOR-2015.csv` dataset:\n",
    "\n",
    " - load `SMO-VOR-2015.csv` in a dataframe\n",
    " - map `x` to `month`\n",
    " - map `y` to `counts` \n",
    " - set y axis label to 'Count'\n",
    " - set title label to 'SMO VOR 2015 dataset'"
   ]
  },
  {
   "cell_type": "code",
   "execution_count": null,
   "metadata": {},
   "outputs": [],
   "source": [
    "df = pd.read_csv('data/SMO-VOR-2015.csv')\n",
    "months = ['Mar', 'Apr', 'May', 'Jun', 'Jul', 'Aug', 'Sep', 'Oct', 'Nov', 'Dec']\n",
    "df.month = pd.Categorical(df.month, categories=months, ordered=True)\n",
    "df = df.groupby(['month']).size().reset_index(name='counts')\n"
   ]
  },
  {
   "cell_type": "markdown",
   "metadata": {},
   "source": [
    "## 😜 Exercise 3\n",
    "\n",
    "Create a boxplot of the `SMO-VOR-2015.csv` by months:\n",
    "\n",
    " - load `SMO-VOR-2015.csv` in a dataframe\n",
    " - map `x` to `months`\n",
    " - map `y` to `alt` \n",
    " - set y axis label to 'Altitude (feets)'\n",
    " - set title label to 'SMO VOR 2015 dataset'"
   ]
  },
  {
   "cell_type": "code",
   "execution_count": null,
   "metadata": {},
   "outputs": [],
   "source": [
    "df = pd.read_csv('data/SMO-VOR-2015.csv')\n"
   ]
  },
  {
   "cell_type": "markdown",
   "metadata": {},
   "source": [
    "## 😜 Exercise 4\n",
    "\n",
    "Create an histogram chart of SMO-VOR-2015.csv:\n",
    "\n",
    "- load `SMO-VOR-2015.csv` in a dataframe\n",
    "- set y axis to 'Count'\n",
    "- set y axis label to 'Altitude (feets)', \n",
    "- set title label to 'SMO VOR 2015 dataset'"
   ]
  },
  {
   "cell_type": "code",
   "execution_count": null,
   "metadata": {},
   "outputs": [],
   "source": [
    "import pandas as pd\n",
    "import seaborn as sns\n",
    "import matplotlib.pyplot as plt\n",
    "\n",
    "df = pd.read_csv('data/SMO-VOR-2015.csv')\n"
   ]
  },
  {
   "cell_type": "markdown",
   "metadata": {},
   "source": [
    "## 😜 Exercise 5\n",
    "\n",
    "Create a line chart of the `TSLA.csv` dataset:\n",
    "\n",
    " - load `TSLA.csv` in a dataframe\n",
    " - map `x` to `Date`\n",
    " - map `y` to `Close`\n",
    " - set `marker` to '.'\n",
    " - set `color` to 'r'\n",
    " - set `linestyle` ':' \n",
    " - set x axis label to ''\n",
    " - set y axis label to 'Stock closure value ($)'\n",
    " - set title label to 'Tesla (TSLA) Jan-Jul 2019'"
   ]
  },
  {
   "cell_type": "code",
   "execution_count": null,
   "metadata": {},
   "outputs": [],
   "source": [
    "import pandas as pd\n",
    "import matplotlib.pyplot as plt\n",
    "\n",
    "df = pd.read_csv('data/TSLA.csv')\n",
    "df.Date = pd.to_datetime(df.Date)\n"
   ]
  }
 ],
 "metadata": {
  "colab": {
   "collapsed_sections": [],
   "name": "4-Graphing with Seaborn.ipynb",
   "provenance": [],
   "toc_visible": true
  },
  "kernelspec": {
   "display_name": "Python 3",
   "language": "python",
   "name": "python3"
  },
  "language_info": {
   "codemirror_mode": {
    "name": "ipython",
    "version": 3
   },
   "file_extension": ".py",
   "mimetype": "text/x-python",
   "name": "python",
   "nbconvert_exporter": "python",
   "pygments_lexer": "ipython3",
   "version": "3.8.2"
  }
 },
 "nbformat": 4,
 "nbformat_minor": 4
}
