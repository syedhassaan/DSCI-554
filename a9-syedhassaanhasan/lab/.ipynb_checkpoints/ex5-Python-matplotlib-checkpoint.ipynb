{
 "cells": [
  {
   "cell_type": "markdown",
   "metadata": {
    "colab_type": "text",
    "id": "jqn7p1vDRdgT"
   },
   "source": [
    "# 🏋 ex5 Python Matplotlib"
   ]
  },
  {
   "cell_type": "markdown",
   "metadata": {
    "colab_type": "text",
    "id": "h4qN4-gmJNdP"
   },
   "source": [
    "Load matplotlib"
   ]
  },
  {
   "cell_type": "code",
   "execution_count": null,
   "metadata": {
    "colab": {},
    "colab_type": "code",
    "id": "xqjxs15NJNdC"
   },
   "outputs": [],
   "source": [
    "import numpy as np\n",
    "import matplotlib.pyplot as plt"
   ]
  },
  {
   "cell_type": "markdown",
   "metadata": {
    "colab_type": "text",
    "id": "h4qN4-gmJNdP"
   },
   "source": [
    "Load iris dataset from sklearn "
   ]
  },
  {
   "cell_type": "code",
   "execution_count": null,
   "metadata": {
    "colab": {},
    "colab_type": "code",
    "id": "nOAijMoyJNdP"
   },
   "outputs": [],
   "source": [
    "from sklearn import datasets\n",
    "iris = datasets.load_iris()\n",
    "#iris"
   ]
  },
  {
   "cell_type": "markdown",
   "metadata": {
    "colab_type": "text",
    "id": "pg5tXiLIJNdH"
   },
   "source": [
    "# Scatterplot\n",
    "\n",
    "See `?plt.scatter`"
   ]
  },
  {
   "cell_type": "code",
   "execution_count": null,
   "metadata": {
    "colab": {},
    "colab_type": "code",
    "id": "b03ZsocO9qas"
   },
   "outputs": [],
   "source": [
    "plt.scatter(iris.data[:, 0], iris.data[:, 1])\n",
    "plt.show()  #call plot to show once configured"
   ]
  },
  {
   "cell_type": "markdown",
   "metadata": {
    "colab_type": "text",
    "id": "oVjg-U3mJNdV"
   },
   "source": [
    "# Bar chart\n",
    "\n",
    "See `?plt.bar`\n",
    "\n",
    "Let's compute frequency of each species in the iris dataset"
   ]
  },
  {
   "cell_type": "code",
   "execution_count": null,
   "metadata": {
    "colab": {},
    "colab_type": "code",
    "id": "pkRGnV-SGixX"
   },
   "outputs": [],
   "source": [
    "unique, counts = np.unique(iris.target, return_counts=True)\n",
    "unique\n",
    "counts"
   ]
  },
  {
   "cell_type": "code",
   "execution_count": null,
   "metadata": {
    "colab": {},
    "colab_type": "code",
    "id": "jApn7qkyJNdV"
   },
   "outputs": [],
   "source": [
    "plt.bar(np.arange(len(counts)), counts)\n",
    "plt.xticks(np.arange(len(counts)), iris.target_names)\n",
    "plt.show()  #call plot to show once configured"
   ]
  },
  {
   "cell_type": "markdown",
   "metadata": {
    "colab_type": "text",
    "id": "zDe2hVtopShQ"
   },
   "source": [
    "# Boxplot\n",
    "\n",
    "See `?plt.boxplot`"
   ]
  },
  {
   "cell_type": "code",
   "execution_count": null,
   "metadata": {
    "colab": {},
    "colab_type": "code",
    "id": "X3NXqudypVbQ"
   },
   "outputs": [],
   "source": [
    "plt.boxplot(iris.data[:, 0])\n",
    "plt.show()"
   ]
  },
  {
   "cell_type": "markdown",
   "metadata": {},
   "source": [
    "# Line chart\n",
    "\n",
    "See `?plt.plot`"
   ]
  },
  {
   "cell_type": "code",
   "execution_count": null,
   "metadata": {},
   "outputs": [],
   "source": [
    "x = np.linspace(0, 100, 5)\n",
    "y = x * x\n",
    "\n",
    "plt.plot(x, y)"
   ]
  },
  {
   "cell_type": "markdown",
   "metadata": {
    "colab_type": "text",
    "id": "hpxuCnAi87gS"
   },
   "source": [
    "# Customizations\n",
    "\n",
    "- Axis labels\n",
    "- Title\n",
    "- Graph size\n",
    "- Transparency\n",
    "- color"
   ]
  },
  {
   "cell_type": "code",
   "execution_count": null,
   "metadata": {
    "colab": {},
    "colab_type": "code",
    "id": "6HdVBO8T982W"
   },
   "outputs": [],
   "source": [
    "plt.figure(figsize = (8, 5))  #set figure width and height\n",
    "\n",
    "plt.scatter(iris.data[:, 0], iris.data[:, 1], c = iris.target, alpha = 0.5) # set color and transparency\n",
    "plt.xlabel(iris.feature_names[0]) # add x label\n",
    "plt.ylabel(iris.feature_names[1]) # add y label\n",
    "plt.title('iris dataset') # set a title for the chart\n",
    "\n",
    "plt.show()  #always finish with showing the plot!"
   ]
  },
  {
   "cell_type": "markdown",
   "metadata": {},
   "source": [
    "---\n",
    "\n",
    "# Exercises"
   ]
  },
  {
   "cell_type": "markdown",
   "metadata": {},
   "source": [
    "## 😜 Exercise 1\n",
    "\n",
    "Create a scatterplot of the `SMO-VOR-2015.csv` dataset:\n",
    "\n",
    " - load `SMO-VOR-2015.csv` in a dataframe\n",
    " - map `x` to `ptime`\n",
    " - map `y` to `alt`\n",
    " - set point `alpha` to `0.1`\n",
    " - set x axis label to 'Penetration time'\n",
    " - set y axis label to 'Altitude (feets)'\n",
    " - set title label to 'SMO VOR 2015 dataset'\n",
    " - resize the figure to `(10, 5)`"
   ]
  },
  {
   "cell_type": "code",
   "execution_count": null,
   "metadata": {},
   "outputs": [],
   "source": [
    "import pandas as pd\n",
    "import numpy as np\n",
    "import matplotlib.pyplot as plt\n",
    "\n",
    "df = pd.read_csv('data/SMO-VOR-2015.csv')\n",
    "df.ptime = pd.to_datetime(df.ptime)\n",
    "df.head()\n"
   ]
  },
  {
   "cell_type": "markdown",
   "metadata": {},
   "source": [
    "## 😜 Exercise 2\n",
    "\n",
    "Create a bar chart of the `SMO-VOR-2015.csv` dataset:\n",
    "\n",
    " - load `SMO-VOR-2015.csv` in a dataframe\n",
    " - map `x` to `month`\n",
    " - set y axis label to 'Count'\n",
    " - set title label to 'SMO VOR 2015 dataset'\n",
    " - resize the figure to (10, 5)"
   ]
  },
  {
   "cell_type": "code",
   "execution_count": null,
   "metadata": {},
   "outputs": [],
   "source": [
    "import pandas as pd\n",
    "import numpy as np\n",
    "import matplotlib.pyplot as plt\n",
    "\n",
    "df = pd.read_csv('data/SMO-VOR-2015.csv')\n",
    "\n",
    "months = ['Mar', 'Apr', 'May', 'Jun', 'Jul', 'Aug', 'Sep', 'Oct', 'Nov', 'Dec']\n",
    "df.month = pd.Categorical(df.month, categories=months, ordered=True)\n",
    "df = df.groupby(['month']).size().reset_index(name='counts')\n",
    "df.head()\n"
   ]
  },
  {
   "cell_type": "markdown",
   "metadata": {},
   "source": [
    "## 😜 Exercise 3\n",
    "\n",
    "Create a boxplot of the `SMO-VOR-2015.csv` by month:\n",
    "\n",
    " - load `SMO-VOR-2015.csv` in a dataframe\n",
    " - map `x` to `values`\n",
    " - use `plt.xticks(x1, months)` to set the labels for the months\n",
    " - set y axis label to 'Altitude (feets)'\n",
    " - set title label to 'SMO VOR 2015 dataset'"
   ]
  },
  {
   "cell_type": "code",
   "execution_count": null,
   "metadata": {},
   "outputs": [],
   "source": [
    "import pandas as pd\n",
    "import numpy as np\n",
    "import matplotlib.pyplot as plt\n",
    "\n",
    "df = pd.read_csv('data/SMO-VOR-2015.csv')\n",
    "\n",
    "months = ['Mar', 'Apr', 'May', 'Jun', 'Jul', 'Aug', 'Sep', 'Oct', 'Nov', 'Dec']\n",
    "df.month = pd.Categorical(df.month, categories=months, ordered=True)\n",
    "\n",
    "x1 = [1, 2, 3, 4, 5, 6, 7, 8, 9, 10]\n",
    "months = ['Mar', 'Apr', 'May', 'Jun', 'Jul', 'Aug', 'Sep', 'Oct', 'Nov', 'Dec']\n",
    "values = [df.alt[df.month == 'Mar'],\n",
    "          df.alt[df.month == 'Apr'],\n",
    "          df.alt[df.month == 'May'],\n",
    "          df.alt[df.month == 'Jun'],\n",
    "          df.alt[df.month == 'Jul'],\n",
    "          df.alt[df.month == 'Aug'],\n",
    "          df.alt[df.month == 'Sep'],\n",
    "          df.alt[df.month == 'Oct'],\n",
    "          df.alt[df.month == 'Nov'],\n",
    "          df.alt[df.month == 'Dec']]\n"
   ]
  },
  {
   "cell_type": "markdown",
   "metadata": {},
   "source": [
    "## 😜 Exercise 4\n",
    "\n",
    "Create a line chart of the `TSLA.csv` dataset:\n",
    "\n",
    " - load `TSLA.csv` in a dataframe\n",
    " - map `x` to `Date`\n",
    " - map `y` to `Close`\n",
    " - set `marker` to '.'\n",
    " - set `color` to 'r'\n",
    " - set `linestyle` ':' \n",
    " - set x axis label to ''\n",
    " - set y axis label to 'Stock closure value ($)'\n",
    " - set title label to 'Tesla (TSLA) Jan-Jul 2019'"
   ]
  },
  {
   "cell_type": "code",
   "execution_count": null,
   "metadata": {},
   "outputs": [],
   "source": [
    "import pandas as pd\n",
    "import numpy as np\n",
    "import matplotlib.pyplot as plt\n",
    "\n",
    "df = pd.read_csv('data/TSLA.csv')\n",
    "df.Date = pd.to_datetime(df.Date)\n"
   ]
  }
 ],
 "metadata": {
  "colab": {
   "collapsed_sections": [],
   "name": "2-Graphing with matplotlib.ipynb",
   "provenance": [],
   "toc_visible": true
  },
  "kernelspec": {
   "display_name": "Python 3",
   "language": "python",
   "name": "python3"
  },
  "language_info": {
   "codemirror_mode": {
    "name": "ipython",
    "version": 3
   },
   "file_extension": ".py",
   "mimetype": "text/x-python",
   "name": "python",
   "nbconvert_exporter": "python",
   "pygments_lexer": "ipython3",
   "version": "3.8.2"
  }
 },
 "nbformat": 4,
 "nbformat_minor": 4
}
