{
 "cells": [
  {
   "cell_type": "markdown",
   "metadata": {},
   "source": [
    "# a9 Jupyter notebook"
   ]
  },
  {
   "cell_type": "markdown",
   "metadata": {},
   "source": [
    "Syed Hasan <a href=\"mailto:syedhass@usc.edu\">syedhass@usc.edu</a>"
   ]
  },
  {
   "cell_type": "code",
   "execution_count": 1,
   "metadata": {},
   "outputs": [],
   "source": [
    "import altair as alt\n",
    "import pandas as pd  #import pandas\n",
    "\n",
    "df = pd.read_csv(\"lab/data/population.csv\")"
   ]
  },
  {
   "cell_type": "markdown",
   "metadata": {},
   "source": [
    "# Altair Scatterplot\n",
    "\n",
    "The source of this data is United Nations Population Division, New York, World Urbanization Prospects: The 2018 Revision. <br>\n",
    "For this altair scatterplot I am using Population data for the year 2018, more specifically:\n",
    "\n",
    "- Percentage of Population Living in Rural Areas (x-axis)\n",
    "- Total population of the country, in millions (y-axis)\n"
   ]
  },
  {
   "cell_type": "code",
   "execution_count": 2,
   "metadata": {},
   "outputs": [
    {
     "data": {
      "text/html": [
       "\n",
       "<div id=\"altair-viz-399617926da74ccdac88071462db9ddc\"></div>\n",
       "<script type=\"text/javascript\">\n",
       "  (function(spec, embedOpt){\n",
       "    let outputDiv = document.currentScript.previousElementSibling;\n",
       "    if (outputDiv.id !== \"altair-viz-399617926da74ccdac88071462db9ddc\") {\n",
       "      outputDiv = document.getElementById(\"altair-viz-399617926da74ccdac88071462db9ddc\");\n",
       "    }\n",
       "    const paths = {\n",
       "      \"vega\": \"https://cdn.jsdelivr.net/npm//vega@5?noext\",\n",
       "      \"vega-lib\": \"https://cdn.jsdelivr.net/npm//vega-lib?noext\",\n",
       "      \"vega-lite\": \"https://cdn.jsdelivr.net/npm//vega-lite@4.8.1?noext\",\n",
       "      \"vega-embed\": \"https://cdn.jsdelivr.net/npm//vega-embed@6?noext\",\n",
       "    };\n",
       "\n",
       "    function loadScript(lib) {\n",
       "      return new Promise(function(resolve, reject) {\n",
       "        var s = document.createElement('script');\n",
       "        s.src = paths[lib];\n",
       "        s.async = true;\n",
       "        s.onload = () => resolve(paths[lib]);\n",
       "        s.onerror = () => reject(`Error loading script: ${paths[lib]}`);\n",
       "        document.getElementsByTagName(\"head\")[0].appendChild(s);\n",
       "      });\n",
       "    }\n",
       "\n",
       "    function showError(err) {\n",
       "      outputDiv.innerHTML = `<div class=\"error\" style=\"color:red;\">${err}</div>`;\n",
       "      throw err;\n",
       "    }\n",
       "\n",
       "    function displayChart(vegaEmbed) {\n",
       "      vegaEmbed(outputDiv, spec, embedOpt)\n",
       "        .catch(err => showError(`Javascript Error: ${err.message}<br>This usually means there's a typo in your chart specification. See the javascript console for the full traceback.`));\n",
       "    }\n",
       "\n",
       "    if(typeof define === \"function\" && define.amd) {\n",
       "      requirejs.config({paths});\n",
       "      require([\"vega-embed\"], displayChart, err => showError(`Error loading script: ${err.message}`));\n",
       "    } else if (typeof vegaEmbed === \"function\") {\n",
       "      displayChart(vegaEmbed);\n",
       "    } else {\n",
       "      loadScript(\"vega\")\n",
       "        .then(() => loadScript(\"vega-lite\"))\n",
       "        .then(() => loadScript(\"vega-embed\"))\n",
       "        .catch(showError)\n",
       "        .then(() => displayChart(vegaEmbed));\n",
       "    }\n",
       "  })({\"config\": {\"view\": {\"continuousWidth\": 400, \"continuousHeight\": 300}}, \"data\": {\"name\": \"data-895007edd4abe141b1c465e7a726df8b\"}, \"mark\": \"point\", \"encoding\": {\"color\": {\"type\": \"nominal\", \"field\": \"country\"}, \"x\": {\"type\": \"quantitative\", \"axis\": {\"title\": \"Percentage of Rural Population\"}, \"field\": \"percentage\"}, \"y\": {\"type\": \"quantitative\", \"axis\": {\"title\": \"Total Population\"}, \"field\": \"population\"}}, \"title\": \"Population Dataset\", \"$schema\": \"https://vega.github.io/schema/vega-lite/v4.8.1.json\", \"datasets\": {\"data-895007edd4abe141b1c465e7a726df8b\": [{\"country\": \"Afghanistan\", \"population\": 38.928346, \"percentage\": 70}, {\"country\": \"Bangladesh\", \"population\": 164.689383, \"percentage\": 50}, {\"country\": \"Canada\", \"population\": 37.742154, \"percentage\": 17}, {\"country\": \"China\", \"population\": 1439.323776, \"percentage\": 23}, {\"country\": \"Finland\", \"population\": 5.54072, \"percentage\": 19}, {\"country\": \"India\", \"population\": 1380.004385, \"percentage\": 44}, {\"country\": \"Iran\", \"population\": 83.992949, \"percentage\": 34}, {\"country\": \"Pakistan\", \"population\": 220.89234, \"percentage\": 68}, {\"country\": \"UK\", \"population\": 67.886011, \"percentage\": 12}, {\"country\": \"USA\", \"population\": 331.002651, \"percentage\": 21}]}}, {\"mode\": \"vega-lite\"});\n",
       "</script>"
      ],
      "text/plain": [
       "alt.Chart(...)"
      ]
     },
     "execution_count": 2,
     "metadata": {},
     "output_type": "execute_result"
    }
   ],
   "source": [
    "alt.Chart(df).mark_point().encode(x=alt.X('percentage', axis=alt.Axis(title='Percentage of Rural Population')), \n",
    "                                  y=alt.Y('population', axis=alt.Axis(title='Total Population')),\n",
    "                                  color='country').properties(\n",
    "                                                       title='Population Dataset')"
   ]
  },
  {
   "cell_type": "markdown",
   "metadata": {},
   "source": [
    "## Altair Barchart\n",
    "\n",
    "The source of this data is United Nations Population Division, New York, World Urbanization Prospects: The 2018 Revision. <br>\n",
    "For this altair barchart I am using Population data for the year 2018, more specifically:\n",
    "\n",
    "- Percentage of Population Living in Rural Areas (y-axis)\n",
    "- Country (x-axis)\n"
   ]
  },
  {
   "cell_type": "code",
   "execution_count": 13,
   "metadata": {},
   "outputs": [
    {
     "data": {
      "text/html": [
       "\n",
       "<div id=\"altair-viz-e0309d0c814d4dd3a29fd800b639ce9f\"></div>\n",
       "<script type=\"text/javascript\">\n",
       "  (function(spec, embedOpt){\n",
       "    let outputDiv = document.currentScript.previousElementSibling;\n",
       "    if (outputDiv.id !== \"altair-viz-e0309d0c814d4dd3a29fd800b639ce9f\") {\n",
       "      outputDiv = document.getElementById(\"altair-viz-e0309d0c814d4dd3a29fd800b639ce9f\");\n",
       "    }\n",
       "    const paths = {\n",
       "      \"vega\": \"https://cdn.jsdelivr.net/npm//vega@5?noext\",\n",
       "      \"vega-lib\": \"https://cdn.jsdelivr.net/npm//vega-lib?noext\",\n",
       "      \"vega-lite\": \"https://cdn.jsdelivr.net/npm//vega-lite@4.8.1?noext\",\n",
       "      \"vega-embed\": \"https://cdn.jsdelivr.net/npm//vega-embed@6?noext\",\n",
       "    };\n",
       "\n",
       "    function loadScript(lib) {\n",
       "      return new Promise(function(resolve, reject) {\n",
       "        var s = document.createElement('script');\n",
       "        s.src = paths[lib];\n",
       "        s.async = true;\n",
       "        s.onload = () => resolve(paths[lib]);\n",
       "        s.onerror = () => reject(`Error loading script: ${paths[lib]}`);\n",
       "        document.getElementsByTagName(\"head\")[0].appendChild(s);\n",
       "      });\n",
       "    }\n",
       "\n",
       "    function showError(err) {\n",
       "      outputDiv.innerHTML = `<div class=\"error\" style=\"color:red;\">${err}</div>`;\n",
       "      throw err;\n",
       "    }\n",
       "\n",
       "    function displayChart(vegaEmbed) {\n",
       "      vegaEmbed(outputDiv, spec, embedOpt)\n",
       "        .catch(err => showError(`Javascript Error: ${err.message}<br>This usually means there's a typo in your chart specification. See the javascript console for the full traceback.`));\n",
       "    }\n",
       "\n",
       "    if(typeof define === \"function\" && define.amd) {\n",
       "      requirejs.config({paths});\n",
       "      require([\"vega-embed\"], displayChart, err => showError(`Error loading script: ${err.message}`));\n",
       "    } else if (typeof vegaEmbed === \"function\") {\n",
       "      displayChart(vegaEmbed);\n",
       "    } else {\n",
       "      loadScript(\"vega\")\n",
       "        .then(() => loadScript(\"vega-lite\"))\n",
       "        .then(() => loadScript(\"vega-embed\"))\n",
       "        .catch(showError)\n",
       "        .then(() => displayChart(vegaEmbed));\n",
       "    }\n",
       "  })({\"config\": {\"view\": {\"continuousWidth\": 400, \"continuousHeight\": 300}}, \"data\": {\"name\": \"data-895007edd4abe141b1c465e7a726df8b\"}, \"mark\": \"bar\", \"encoding\": {\"x\": {\"type\": \"nominal\", \"field\": \"country\"}, \"y\": {\"type\": \"quantitative\", \"field\": \"percentage\"}}, \"title\": \"Population Dataset\", \"$schema\": \"https://vega.github.io/schema/vega-lite/v4.8.1.json\", \"datasets\": {\"data-895007edd4abe141b1c465e7a726df8b\": [{\"country\": \"Afghanistan\", \"population\": 38.928346, \"percentage\": 70}, {\"country\": \"Bangladesh\", \"population\": 164.689383, \"percentage\": 50}, {\"country\": \"Canada\", \"population\": 37.742154, \"percentage\": 17}, {\"country\": \"China\", \"population\": 1439.323776, \"percentage\": 23}, {\"country\": \"Finland\", \"population\": 5.54072, \"percentage\": 19}, {\"country\": \"India\", \"population\": 1380.004385, \"percentage\": 44}, {\"country\": \"Iran\", \"population\": 83.992949, \"percentage\": 34}, {\"country\": \"Pakistan\", \"population\": 220.89234, \"percentage\": 68}, {\"country\": \"UK\", \"population\": 67.886011, \"percentage\": 12}, {\"country\": \"USA\", \"population\": 331.002651, \"percentage\": 21}]}}, {\"mode\": \"vega-lite\"});\n",
       "</script>"
      ],
      "text/plain": [
       "alt.Chart(...)"
      ]
     },
     "execution_count": 13,
     "metadata": {},
     "output_type": "execute_result"
    }
   ],
   "source": [
    "alt.Chart(df).mark_bar().encode(x='country', y='percentage').properties(\n",
    "                                                       title='Population Dataset')"
   ]
  },
  {
   "cell_type": "markdown",
   "metadata": {},
   "source": [
    "## Altair Histogram\n",
    "\n",
    "The source of this data is United Nations Population Division, New York, World Urbanization Prospects: The 2018 Revision. <br>\n",
    "For this altair histogram I am using Population data for the year 2018, more specifically:\n",
    "\n",
    "- Population of countries, binned into bins of 200 million (x-axis)\n",
    "- Number of countries (y-axis)\n"
   ]
  },
  {
   "cell_type": "code",
   "execution_count": 4,
   "metadata": {},
   "outputs": [
    {
     "data": {
      "text/html": [
       "\n",
       "<div id=\"altair-viz-0e4f21944aa14722a61613fac14cd510\"></div>\n",
       "<script type=\"text/javascript\">\n",
       "  (function(spec, embedOpt){\n",
       "    let outputDiv = document.currentScript.previousElementSibling;\n",
       "    if (outputDiv.id !== \"altair-viz-0e4f21944aa14722a61613fac14cd510\") {\n",
       "      outputDiv = document.getElementById(\"altair-viz-0e4f21944aa14722a61613fac14cd510\");\n",
       "    }\n",
       "    const paths = {\n",
       "      \"vega\": \"https://cdn.jsdelivr.net/npm//vega@5?noext\",\n",
       "      \"vega-lib\": \"https://cdn.jsdelivr.net/npm//vega-lib?noext\",\n",
       "      \"vega-lite\": \"https://cdn.jsdelivr.net/npm//vega-lite@4.8.1?noext\",\n",
       "      \"vega-embed\": \"https://cdn.jsdelivr.net/npm//vega-embed@6?noext\",\n",
       "    };\n",
       "\n",
       "    function loadScript(lib) {\n",
       "      return new Promise(function(resolve, reject) {\n",
       "        var s = document.createElement('script');\n",
       "        s.src = paths[lib];\n",
       "        s.async = true;\n",
       "        s.onload = () => resolve(paths[lib]);\n",
       "        s.onerror = () => reject(`Error loading script: ${paths[lib]}`);\n",
       "        document.getElementsByTagName(\"head\")[0].appendChild(s);\n",
       "      });\n",
       "    }\n",
       "\n",
       "    function showError(err) {\n",
       "      outputDiv.innerHTML = `<div class=\"error\" style=\"color:red;\">${err}</div>`;\n",
       "      throw err;\n",
       "    }\n",
       "\n",
       "    function displayChart(vegaEmbed) {\n",
       "      vegaEmbed(outputDiv, spec, embedOpt)\n",
       "        .catch(err => showError(`Javascript Error: ${err.message}<br>This usually means there's a typo in your chart specification. See the javascript console for the full traceback.`));\n",
       "    }\n",
       "\n",
       "    if(typeof define === \"function\" && define.amd) {\n",
       "      requirejs.config({paths});\n",
       "      require([\"vega-embed\"], displayChart, err => showError(`Error loading script: ${err.message}`));\n",
       "    } else if (typeof vegaEmbed === \"function\") {\n",
       "      displayChart(vegaEmbed);\n",
       "    } else {\n",
       "      loadScript(\"vega\")\n",
       "        .then(() => loadScript(\"vega-lite\"))\n",
       "        .then(() => loadScript(\"vega-embed\"))\n",
       "        .catch(showError)\n",
       "        .then(() => displayChart(vegaEmbed));\n",
       "    }\n",
       "  })({\"config\": {\"view\": {\"continuousWidth\": 400, \"continuousHeight\": 300}}, \"data\": {\"name\": \"data-895007edd4abe141b1c465e7a726df8b\"}, \"mark\": \"bar\", \"encoding\": {\"x\": {\"type\": \"quantitative\", \"axis\": {\"title\": \"Population (bins of 200m)\"}, \"bin\": true, \"field\": \"population\"}, \"y\": {\"type\": \"quantitative\", \"aggregate\": \"count\", \"axis\": {\"title\": \"Number of Countries\"}}}, \"title\": \"Population Dataset\", \"$schema\": \"https://vega.github.io/schema/vega-lite/v4.8.1.json\", \"datasets\": {\"data-895007edd4abe141b1c465e7a726df8b\": [{\"country\": \"Afghanistan\", \"population\": 38.928346, \"percentage\": 70}, {\"country\": \"Bangladesh\", \"population\": 164.689383, \"percentage\": 50}, {\"country\": \"Canada\", \"population\": 37.742154, \"percentage\": 17}, {\"country\": \"China\", \"population\": 1439.323776, \"percentage\": 23}, {\"country\": \"Finland\", \"population\": 5.54072, \"percentage\": 19}, {\"country\": \"India\", \"population\": 1380.004385, \"percentage\": 44}, {\"country\": \"Iran\", \"population\": 83.992949, \"percentage\": 34}, {\"country\": \"Pakistan\", \"population\": 220.89234, \"percentage\": 68}, {\"country\": \"UK\", \"population\": 67.886011, \"percentage\": 12}, {\"country\": \"USA\", \"population\": 331.002651, \"percentage\": 21}]}}, {\"mode\": \"vega-lite\"});\n",
       "</script>"
      ],
      "text/plain": [
       "alt.Chart(...)"
      ]
     },
     "execution_count": 4,
     "metadata": {},
     "output_type": "execute_result"
    }
   ],
   "source": [
    "alt.Chart(df).mark_bar().encode(\n",
    "    alt.X(\"population\", bin=True, axis=alt.Axis(title='Population (bins of 200m)')),\n",
    "    alt.Y('count()', axis=alt.Axis(title='Number of Countries'))).properties(\n",
    "    title='Population Dataset'\n",
    "    )"
   ]
  },
  {
   "cell_type": "code",
   "execution_count": 5,
   "metadata": {},
   "outputs": [],
   "source": [
    "internet = pd.read_csv(\"lab/data/internet_.csv\")"
   ]
  },
  {
   "cell_type": "markdown",
   "metadata": {},
   "source": [
    "## Altair Boxplot\n",
    "\n",
    "For this altair boxplot I am using Communication data, more specifically Internet Usage data. <br>\n",
    "The source of this data is International Telecommunication Union (ITU) based in Geneva. \n",
    "\n",
    "- Comparing the percentage of people who use the internet from countries in my region (south Asia) against more developed countries in the years 2000-2020\n",
    "\n"
   ]
  },
  {
   "cell_type": "code",
   "execution_count": 6,
   "metadata": {},
   "outputs": [
    {
     "data": {
      "text/html": [
       "\n",
       "<div id=\"altair-viz-eebafb7ece9c43d697dd7f4058fcae73\"></div>\n",
       "<script type=\"text/javascript\">\n",
       "  (function(spec, embedOpt){\n",
       "    let outputDiv = document.currentScript.previousElementSibling;\n",
       "    if (outputDiv.id !== \"altair-viz-eebafb7ece9c43d697dd7f4058fcae73\") {\n",
       "      outputDiv = document.getElementById(\"altair-viz-eebafb7ece9c43d697dd7f4058fcae73\");\n",
       "    }\n",
       "    const paths = {\n",
       "      \"vega\": \"https://cdn.jsdelivr.net/npm//vega@5?noext\",\n",
       "      \"vega-lib\": \"https://cdn.jsdelivr.net/npm//vega-lib?noext\",\n",
       "      \"vega-lite\": \"https://cdn.jsdelivr.net/npm//vega-lite@4.8.1?noext\",\n",
       "      \"vega-embed\": \"https://cdn.jsdelivr.net/npm//vega-embed@6?noext\",\n",
       "    };\n",
       "\n",
       "    function loadScript(lib) {\n",
       "      return new Promise(function(resolve, reject) {\n",
       "        var s = document.createElement('script');\n",
       "        s.src = paths[lib];\n",
       "        s.async = true;\n",
       "        s.onload = () => resolve(paths[lib]);\n",
       "        s.onerror = () => reject(`Error loading script: ${paths[lib]}`);\n",
       "        document.getElementsByTagName(\"head\")[0].appendChild(s);\n",
       "      });\n",
       "    }\n",
       "\n",
       "    function showError(err) {\n",
       "      outputDiv.innerHTML = `<div class=\"error\" style=\"color:red;\">${err}</div>`;\n",
       "      throw err;\n",
       "    }\n",
       "\n",
       "    function displayChart(vegaEmbed) {\n",
       "      vegaEmbed(outputDiv, spec, embedOpt)\n",
       "        .catch(err => showError(`Javascript Error: ${err.message}<br>This usually means there's a typo in your chart specification. See the javascript console for the full traceback.`));\n",
       "    }\n",
       "\n",
       "    if(typeof define === \"function\" && define.amd) {\n",
       "      requirejs.config({paths});\n",
       "      require([\"vega-embed\"], displayChart, err => showError(`Error loading script: ${err.message}`));\n",
       "    } else if (typeof vegaEmbed === \"function\") {\n",
       "      displayChart(vegaEmbed);\n",
       "    } else {\n",
       "      loadScript(\"vega\")\n",
       "        .then(() => loadScript(\"vega-lite\"))\n",
       "        .then(() => loadScript(\"vega-embed\"))\n",
       "        .catch(showError)\n",
       "        .then(() => displayChart(vegaEmbed));\n",
       "    }\n",
       "  })({\"config\": {\"view\": {\"continuousWidth\": 400, \"continuousHeight\": 300}}, \"data\": {\"name\": \"data-0fce30bd1b51bb6194d2198e9a96716c\"}, \"mark\": \"boxplot\", \"encoding\": {\"color\": {\"type\": \"nominal\", \"field\": \"country\"}, \"x\": {\"type\": \"nominal\", \"axis\": {\"title\": null}, \"field\": \"country\"}, \"y\": {\"type\": \"quantitative\", \"axis\": {\"title\": \"Percentage\"}, \"field\": \"percentage\"}}, \"title\": \"Internet Usage Dataset\", \"$schema\": \"https://vega.github.io/schema/vega-lite/v4.8.1.json\", \"datasets\": {\"data-0fce30bd1b51bb6194d2198e9a96716c\": [{\"country\": \"Pakistan\", \"year\": 2005, \"percentage\": 6.3323}, {\"country\": \"Pakistan\", \"year\": 2010, \"percentage\": 8.0}, {\"country\": \"Pakistan\", \"year\": 2015, \"percentage\": 14.0}, {\"country\": \"Pakistan\", \"year\": 2016, \"percentage\": 12.3854}, {\"country\": \"Pakistan\", \"year\": 2017, \"percentage\": 15.51}, {\"country\": \"India\", \"year\": 2000, \"percentage\": 0.5275}, {\"country\": \"India\", \"year\": 2005, \"percentage\": 2.3881}, {\"country\": \"India\", \"year\": 2010, \"percentage\": 7.5}, {\"country\": \"India\", \"year\": 2015, \"percentage\": 17.0}, {\"country\": \"India\", \"year\": 2016, \"percentage\": 22.0}, {\"country\": \"India\", \"year\": 2017, \"percentage\": 34.45}, {\"country\": \"Bangladesh\", \"year\": 2000, \"percentage\": 0.071}, {\"country\": \"Bangladesh\", \"year\": 2005, \"percentage\": 0.2416}, {\"country\": \"Bangladesh\", \"year\": 2010, \"percentage\": 3.7}, {\"country\": \"Bangladesh\", \"year\": 2015, \"percentage\": 14.4}, {\"country\": \"Bangladesh\", \"year\": 2016, \"percentage\": 18.02}, {\"country\": \"Bangladesh\", \"year\": 2017, \"percentage\": 15.0}, {\"country\": \"Iran (Islamic Republic of)\", \"year\": 2000, \"percentage\": 0.9342}, {\"country\": \"Iran (Islamic Republic of)\", \"year\": 2005, \"percentage\": 8.1}, {\"country\": \"Iran (Islamic Republic of)\", \"year\": 2010, \"percentage\": 15.9}, {\"country\": \"Iran (Islamic Republic of)\", \"year\": 2015, \"percentage\": 45.335}, {\"country\": \"Iran (Islamic Republic of)\", \"year\": 2016, \"percentage\": 53.2268}, {\"country\": \"Iran (Islamic Republic of)\", \"year\": 2017, \"percentage\": 64.044}, {\"country\": \"Iran (Islamic Republic of)\", \"year\": 2018, \"percentage\": 70.0046}, {\"country\": \"Afghanistan\", \"year\": 2005, \"percentage\": 1.2241}, {\"country\": \"Afghanistan\", \"year\": 2010, \"percentage\": 4.0}, {\"country\": \"Afghanistan\", \"year\": 2015, \"percentage\": 8.26}, {\"country\": \"Afghanistan\", \"year\": 2016, \"percentage\": 11.2}, {\"country\": \"Afghanistan\", \"year\": 2017, \"percentage\": 13.5}, {\"country\": \"China\", \"year\": 2000, \"percentage\": 1.7759}, {\"country\": \"China\", \"year\": 2005, \"percentage\": 8.5233}, {\"country\": \"China\", \"year\": 2010, \"percentage\": 34.3}, {\"country\": \"China\", \"year\": 2015, \"percentage\": 50.3}, {\"country\": \"China\", \"year\": 2016, \"percentage\": 53.2}, {\"country\": \"China\", \"year\": 2017, \"percentage\": 54.3}, {\"country\": \"United States of America\", \"year\": 2000, \"percentage\": 43.0792}, {\"country\": \"United States of America\", \"year\": 2005, \"percentage\": 67.9681}, {\"country\": \"United States of America\", \"year\": 2010, \"percentage\": 71.69}, {\"country\": \"United States of America\", \"year\": 2015, \"percentage\": 74.5542}, {\"country\": \"United States of America\", \"year\": 2016, \"percentage\": 85.5444}, {\"country\": \"United States of America\", \"year\": 2017, \"percentage\": 87.2661}, {\"country\": \"Canada\", \"year\": 2000, \"percentage\": 51.3}, {\"country\": \"Canada\", \"year\": 2005, \"percentage\": 71.66}, {\"country\": \"Canada\", \"year\": 2010, \"percentage\": 80.3}, {\"country\": \"Canada\", \"year\": 2015, \"percentage\": 90.0}, {\"country\": \"Canada\", \"year\": 2016, \"percentage\": 91.16}, {\"country\": \"Canada\", \"year\": 2017, \"percentage\": 91.0}, {\"country\": \"United Kingdom\", \"year\": 2000, \"percentage\": 26.8218}, {\"country\": \"United Kingdom\", \"year\": 2005, \"percentage\": 70.0}, {\"country\": \"United Kingdom\", \"year\": 2010, \"percentage\": 85.0}, {\"country\": \"United Kingdom\", \"year\": 2015, \"percentage\": 92.0003}, {\"country\": \"United Kingdom\", \"year\": 2016, \"percentage\": 94.7758}, {\"country\": \"United Kingdom\", \"year\": 2017, \"percentage\": 94.62}, {\"country\": \"United Kingdom\", \"year\": 2018, \"percentage\": 94.8967}, {\"country\": \"Finland\", \"year\": 2000, \"percentage\": 37.2485}, {\"country\": \"Finland\", \"year\": 2005, \"percentage\": 74.48}, {\"country\": \"Finland\", \"year\": 2010, \"percentage\": 86.89}, {\"country\": \"Finland\", \"year\": 2015, \"percentage\": 86.4221}, {\"country\": \"Finland\", \"year\": 2016, \"percentage\": 87.7036}, {\"country\": \"Finland\", \"year\": 2017, \"percentage\": 87.4689}, {\"country\": \"Finland\", \"year\": 2018, \"percentage\": 88.89}]}}, {\"mode\": \"vega-lite\"});\n",
       "</script>"
      ],
      "text/plain": [
       "alt.Chart(...)"
      ]
     },
     "execution_count": 6,
     "metadata": {},
     "output_type": "execute_result"
    }
   ],
   "source": [
    "alt.data_transformers.disable_max_rows()\n",
    "\n",
    "\n",
    "\n",
    "alt.Chart(internet).mark_boxplot().encode(\n",
    "    x=alt.X('country', axis=alt.Axis(title=None)), \n",
    "    y=alt.Y('percentage', axis=alt.Axis(title='Percentage')),\n",
    "    color=alt.Color('country'),\n",
    ").properties(\n",
    "    title='Internet Usage Dataset'\n",
    "    )"
   ]
  },
  {
   "cell_type": "markdown",
   "metadata": {},
   "source": [
    "## Altair Line Chart\n",
    "\n",
    "For this altair line chart I am using Communication data, more specifically Internet Usage data. \n",
    "The source of this data is International Telecommunication Union (ITU) based in Geneva. \n",
    "\n",
    "- Plotting the percentage of people in Pakistan, using the internet from years 2005-2018"
   ]
  },
  {
   "cell_type": "code",
   "execution_count": 7,
   "metadata": {},
   "outputs": [
    {
     "data": {
      "text/html": [
       "\n",
       "<div id=\"altair-viz-11d94df2b6f6469d91d6aadab4e0e233\"></div>\n",
       "<script type=\"text/javascript\">\n",
       "  (function(spec, embedOpt){\n",
       "    let outputDiv = document.currentScript.previousElementSibling;\n",
       "    if (outputDiv.id !== \"altair-viz-11d94df2b6f6469d91d6aadab4e0e233\") {\n",
       "      outputDiv = document.getElementById(\"altair-viz-11d94df2b6f6469d91d6aadab4e0e233\");\n",
       "    }\n",
       "    const paths = {\n",
       "      \"vega\": \"https://cdn.jsdelivr.net/npm//vega@5?noext\",\n",
       "      \"vega-lib\": \"https://cdn.jsdelivr.net/npm//vega-lib?noext\",\n",
       "      \"vega-lite\": \"https://cdn.jsdelivr.net/npm//vega-lite@4.8.1?noext\",\n",
       "      \"vega-embed\": \"https://cdn.jsdelivr.net/npm//vega-embed@6?noext\",\n",
       "    };\n",
       "\n",
       "    function loadScript(lib) {\n",
       "      return new Promise(function(resolve, reject) {\n",
       "        var s = document.createElement('script');\n",
       "        s.src = paths[lib];\n",
       "        s.async = true;\n",
       "        s.onload = () => resolve(paths[lib]);\n",
       "        s.onerror = () => reject(`Error loading script: ${paths[lib]}`);\n",
       "        document.getElementsByTagName(\"head\")[0].appendChild(s);\n",
       "      });\n",
       "    }\n",
       "\n",
       "    function showError(err) {\n",
       "      outputDiv.innerHTML = `<div class=\"error\" style=\"color:red;\">${err}</div>`;\n",
       "      throw err;\n",
       "    }\n",
       "\n",
       "    function displayChart(vegaEmbed) {\n",
       "      vegaEmbed(outputDiv, spec, embedOpt)\n",
       "        .catch(err => showError(`Javascript Error: ${err.message}<br>This usually means there's a typo in your chart specification. See the javascript console for the full traceback.`));\n",
       "    }\n",
       "\n",
       "    if(typeof define === \"function\" && define.amd) {\n",
       "      requirejs.config({paths});\n",
       "      require([\"vega-embed\"], displayChart, err => showError(`Error loading script: ${err.message}`));\n",
       "    } else if (typeof vegaEmbed === \"function\") {\n",
       "      displayChart(vegaEmbed);\n",
       "    } else {\n",
       "      loadScript(\"vega\")\n",
       "        .then(() => loadScript(\"vega-lite\"))\n",
       "        .then(() => loadScript(\"vega-embed\"))\n",
       "        .catch(showError)\n",
       "        .then(() => displayChart(vegaEmbed));\n",
       "    }\n",
       "  })({\"config\": {\"view\": {\"continuousWidth\": 400, \"continuousHeight\": 300}}, \"data\": {\"name\": \"data-f087fd19ef8b106966ce5e26b47eb175\"}, \"mark\": \"line\", \"encoding\": {\"x\": {\"type\": \"quantitative\", \"field\": \"percentage\"}, \"y\": {\"type\": \"quantitative\", \"field\": \"year\", \"scale\": {\"domain\": [1998, 2020]}}}, \"title\": \"Internet Usage in Pakistan\", \"$schema\": \"https://vega.github.io/schema/vega-lite/v4.8.1.json\", \"datasets\": {\"data-f087fd19ef8b106966ce5e26b47eb175\": [{\"country\": \"Pakistan\", \"year\": 2005, \"percentage\": 6.3323}, {\"country\": \"Pakistan\", \"year\": 2010, \"percentage\": 8.0}, {\"country\": \"Pakistan\", \"year\": 2015, \"percentage\": 14.0}, {\"country\": \"Pakistan\", \"year\": 2016, \"percentage\": 12.3854}, {\"country\": \"Pakistan\", \"year\": 2017, \"percentage\": 15.51}]}}, {\"mode\": \"vega-lite\"});\n",
       "</script>"
      ],
      "text/plain": [
       "alt.Chart(...)"
      ]
     },
     "execution_count": 7,
     "metadata": {},
     "output_type": "execute_result"
    }
   ],
   "source": [
    "mask = internet['country'] == 'Pakistan'\n",
    "internet[mask]\n",
    "\n",
    "alt.Chart(internet[mask]).mark_line().encode(\n",
    "    alt.X('percentage'),\n",
    "    alt.Y('year', scale=alt.Scale(domain=[1998, 2020]))).properties(\n",
    "    title='Internet Usage in Pakistan')"
   ]
  },
  {
   "cell_type": "markdown",
   "metadata": {},
   "source": [
    "## Altair Map\n",
    "\n",
    "The source of this data is United Nations Population Division, New York, World Urbanization Prospects: The 2018 Revision. <br>\n",
    "For this altair barchart I am using Population data for the year 2018, more specifically:\n",
    "    \n",
    "- Population of countries, represented by the size of the circle"
   ]
  },
  {
   "cell_type": "code",
   "execution_count": 8,
   "metadata": {},
   "outputs": [
    {
     "data": {
      "text/html": [
       "\n",
       "<div id=\"altair-viz-c088e2d488984b9a8f521bc02508c78f\"></div>\n",
       "<script type=\"text/javascript\">\n",
       "  (function(spec, embedOpt){\n",
       "    let outputDiv = document.currentScript.previousElementSibling;\n",
       "    if (outputDiv.id !== \"altair-viz-c088e2d488984b9a8f521bc02508c78f\") {\n",
       "      outputDiv = document.getElementById(\"altair-viz-c088e2d488984b9a8f521bc02508c78f\");\n",
       "    }\n",
       "    const paths = {\n",
       "      \"vega\": \"https://cdn.jsdelivr.net/npm//vega@5?noext\",\n",
       "      \"vega-lib\": \"https://cdn.jsdelivr.net/npm//vega-lib?noext\",\n",
       "      \"vega-lite\": \"https://cdn.jsdelivr.net/npm//vega-lite@4.8.1?noext\",\n",
       "      \"vega-embed\": \"https://cdn.jsdelivr.net/npm//vega-embed@6?noext\",\n",
       "    };\n",
       "\n",
       "    function loadScript(lib) {\n",
       "      return new Promise(function(resolve, reject) {\n",
       "        var s = document.createElement('script');\n",
       "        s.src = paths[lib];\n",
       "        s.async = true;\n",
       "        s.onload = () => resolve(paths[lib]);\n",
       "        s.onerror = () => reject(`Error loading script: ${paths[lib]}`);\n",
       "        document.getElementsByTagName(\"head\")[0].appendChild(s);\n",
       "      });\n",
       "    }\n",
       "\n",
       "    function showError(err) {\n",
       "      outputDiv.innerHTML = `<div class=\"error\" style=\"color:red;\">${err}</div>`;\n",
       "      throw err;\n",
       "    }\n",
       "\n",
       "    function displayChart(vegaEmbed) {\n",
       "      vegaEmbed(outputDiv, spec, embedOpt)\n",
       "        .catch(err => showError(`Javascript Error: ${err.message}<br>This usually means there's a typo in your chart specification. See the javascript console for the full traceback.`));\n",
       "    }\n",
       "\n",
       "    if(typeof define === \"function\" && define.amd) {\n",
       "      requirejs.config({paths});\n",
       "      require([\"vega-embed\"], displayChart, err => showError(`Error loading script: ${err.message}`));\n",
       "    } else if (typeof vegaEmbed === \"function\") {\n",
       "      displayChart(vegaEmbed);\n",
       "    } else {\n",
       "      loadScript(\"vega\")\n",
       "        .then(() => loadScript(\"vega-lite\"))\n",
       "        .then(() => loadScript(\"vega-embed\"))\n",
       "        .catch(showError)\n",
       "        .then(() => displayChart(vegaEmbed));\n",
       "    }\n",
       "  })({\"config\": {\"view\": {\"continuousWidth\": 400, \"continuousHeight\": 300}}, \"layer\": [{\"data\": {\"url\": \"https://cdn.jsdelivr.net/npm/vega-datasets@v1.29.0/data/world-110m.json\", \"format\": {\"feature\": \"countries\", \"type\": \"topojson\"}}, \"mark\": {\"type\": \"geoshape\", \"fill\": \"lightgray\", \"stroke\": \"white\"}, \"height\": 500, \"projection\": {\"type\": \"equirectangular\"}, \"width\": 700}, {\"data\": {\"name\": \"data-a0bb0e1b20756d42ab09004ef2220f52\"}, \"mark\": \"circle\", \"encoding\": {\"latitude\": {\"field\": \"lat\", \"type\": \"quantitative\"}, \"longitude\": {\"field\": \"lon\", \"type\": \"quantitative\"}, \"size\": {\"type\": \"quantitative\", \"field\": \"population\", \"title\": \"Total Population (in millions)\"}, \"tooltip\": [{\"type\": \"nominal\", \"field\": \"city\"}, {\"type\": \"nominal\", \"field\": \"state\"}, {\"type\": \"quantitative\", \"field\": \"lon\"}, {\"type\": \"quantitative\", \"field\": \"lat\"}]}, \"title\": \"Population\"}], \"$schema\": \"https://vega.github.io/schema/vega-lite/v4.8.1.json\", \"datasets\": {\"data-a0bb0e1b20756d42ab09004ef2220f52\": [{\"country\": \"Afghanistan\", \"B\": 13.5, \"population\": 100, \"lat\": 33.93911, \"lon\": 67.709953}, {\"country\": \"Bangladesh\", \"B\": 15.0, \"population\": 50, \"lat\": 23.684994, \"lon\": 90.356331}, {\"country\": \"Canada\", \"B\": 91.0, \"population\": 70, \"lat\": 56.130366, \"lon\": -106.346771}, {\"country\": \"China\", \"B\": 54.3, \"population\": 110, \"lat\": 35.86166, \"lon\": 104.195397}, {\"country\": \"Finland\", \"B\": 87.4689, \"population\": 140, \"lat\": 61.92411, \"lon\": 25.748151}, {\"country\": \"India\", \"B\": 34.45, \"population\": 200, \"lat\": 20.593684, \"lon\": 78.96288}, {\"country\": \"Iran\", \"B\": 64.044, \"population\": 160, \"lat\": 32.427908, \"lon\": 53.688046}, {\"country\": \"Pakistan\", \"B\": 15.51, \"population\": 40, \"lat\": 30.375321, \"lon\": 69.345116}, {\"country\": \"UK\", \"B\": 94.62, \"population\": 12, \"lat\": 55.378051, \"lon\": -3.435973}, {\"country\": \"USA\", \"B\": 87.2661, \"population\": 55, \"lat\": 37.09024, \"lon\": -95.712891}]}}, {\"mode\": \"vega-lite\"});\n",
       "</script>"
      ],
      "text/plain": [
       "alt.LayerChart(...)"
      ]
     },
     "execution_count": 8,
     "metadata": {},
     "output_type": "execute_result"
    }
   ],
   "source": [
    "from vega_datasets import data\n",
    "\n",
    "source = alt.topo_feature(data.world_110m.url, 'countries')\n",
    "population = df\n",
    "\n",
    "base = alt.Chart(source).mark_geoshape(\n",
    "    fill='lightgray',\n",
    "    stroke='white'\n",
    ").properties(\n",
    "    width=700,\n",
    "    height=500\n",
    ").project('equirectangular')\n",
    "\n",
    "population = pd.read_json('lab/data/population.json')\n",
    "\n",
    "points = alt.Chart(population).mark_circle().encode(\n",
    "    longitude='lon:Q',\n",
    "    latitude='lat:Q',\n",
    "    tooltip=['city:N','state:N', 'lon:Q', 'lat:Q'],\n",
    "    size=alt.Size('population:Q', title='Total Population (in millions)'),\n",
    ").properties(\n",
    "    title='Population'\n",
    ")\n",
    "\n",
    "base + points"
   ]
  },
  {
   "cell_type": "markdown",
   "metadata": {},
   "source": [
    "## Altair trellis plot\n",
    "\n",
    "For this altair trellis plot I am using Communication data, more specifically Internet Usage data. <br>\n",
    "The source of this data is International Telecommunication Union (ITU) based in Geneva. \n",
    "\n",
    "- Plotting the percentage of people (in a barchart) using internet in different countries,  from years 2005-2018"
   ]
  },
  {
   "cell_type": "code",
   "execution_count": 9,
   "metadata": {},
   "outputs": [
    {
     "data": {
      "text/html": [
       "\n",
       "<div id=\"altair-viz-45ef5575c4794aec95d958ccba84a40a\"></div>\n",
       "<script type=\"text/javascript\">\n",
       "  (function(spec, embedOpt){\n",
       "    let outputDiv = document.currentScript.previousElementSibling;\n",
       "    if (outputDiv.id !== \"altair-viz-45ef5575c4794aec95d958ccba84a40a\") {\n",
       "      outputDiv = document.getElementById(\"altair-viz-45ef5575c4794aec95d958ccba84a40a\");\n",
       "    }\n",
       "    const paths = {\n",
       "      \"vega\": \"https://cdn.jsdelivr.net/npm//vega@5?noext\",\n",
       "      \"vega-lib\": \"https://cdn.jsdelivr.net/npm//vega-lib?noext\",\n",
       "      \"vega-lite\": \"https://cdn.jsdelivr.net/npm//vega-lite@4.8.1?noext\",\n",
       "      \"vega-embed\": \"https://cdn.jsdelivr.net/npm//vega-embed@6?noext\",\n",
       "    };\n",
       "\n",
       "    function loadScript(lib) {\n",
       "      return new Promise(function(resolve, reject) {\n",
       "        var s = document.createElement('script');\n",
       "        s.src = paths[lib];\n",
       "        s.async = true;\n",
       "        s.onload = () => resolve(paths[lib]);\n",
       "        s.onerror = () => reject(`Error loading script: ${paths[lib]}`);\n",
       "        document.getElementsByTagName(\"head\")[0].appendChild(s);\n",
       "      });\n",
       "    }\n",
       "\n",
       "    function showError(err) {\n",
       "      outputDiv.innerHTML = `<div class=\"error\" style=\"color:red;\">${err}</div>`;\n",
       "      throw err;\n",
       "    }\n",
       "\n",
       "    function displayChart(vegaEmbed) {\n",
       "      vegaEmbed(outputDiv, spec, embedOpt)\n",
       "        .catch(err => showError(`Javascript Error: ${err.message}<br>This usually means there's a typo in your chart specification. See the javascript console for the full traceback.`));\n",
       "    }\n",
       "\n",
       "    if(typeof define === \"function\" && define.amd) {\n",
       "      requirejs.config({paths});\n",
       "      require([\"vega-embed\"], displayChart, err => showError(`Error loading script: ${err.message}`));\n",
       "    } else if (typeof vegaEmbed === \"function\") {\n",
       "      displayChart(vegaEmbed);\n",
       "    } else {\n",
       "      loadScript(\"vega\")\n",
       "        .then(() => loadScript(\"vega-lite\"))\n",
       "        .then(() => loadScript(\"vega-embed\"))\n",
       "        .catch(showError)\n",
       "        .then(() => displayChart(vegaEmbed));\n",
       "    }\n",
       "  })({\"config\": {\"view\": {\"continuousWidth\": 400, \"continuousHeight\": 300}}, \"data\": {\"name\": \"data-0fce30bd1b51bb6194d2198e9a96716c\"}, \"mark\": \"bar\", \"encoding\": {\"facet\": {\"type\": \"nominal\", \"field\": \"country\"}, \"x\": {\"type\": \"quantitative\", \"axis\": {\"title\": \"Year\"}, \"bin\": true, \"field\": \"year\"}, \"y\": {\"type\": \"quantitative\", \"field\": \"percentage\"}}, \"title\": \"Internet Usage\", \"$schema\": \"https://vega.github.io/schema/vega-lite/v4.8.1.json\", \"datasets\": {\"data-0fce30bd1b51bb6194d2198e9a96716c\": [{\"country\": \"Pakistan\", \"year\": 2005, \"percentage\": 6.3323}, {\"country\": \"Pakistan\", \"year\": 2010, \"percentage\": 8.0}, {\"country\": \"Pakistan\", \"year\": 2015, \"percentage\": 14.0}, {\"country\": \"Pakistan\", \"year\": 2016, \"percentage\": 12.3854}, {\"country\": \"Pakistan\", \"year\": 2017, \"percentage\": 15.51}, {\"country\": \"India\", \"year\": 2000, \"percentage\": 0.5275}, {\"country\": \"India\", \"year\": 2005, \"percentage\": 2.3881}, {\"country\": \"India\", \"year\": 2010, \"percentage\": 7.5}, {\"country\": \"India\", \"year\": 2015, \"percentage\": 17.0}, {\"country\": \"India\", \"year\": 2016, \"percentage\": 22.0}, {\"country\": \"India\", \"year\": 2017, \"percentage\": 34.45}, {\"country\": \"Bangladesh\", \"year\": 2000, \"percentage\": 0.071}, {\"country\": \"Bangladesh\", \"year\": 2005, \"percentage\": 0.2416}, {\"country\": \"Bangladesh\", \"year\": 2010, \"percentage\": 3.7}, {\"country\": \"Bangladesh\", \"year\": 2015, \"percentage\": 14.4}, {\"country\": \"Bangladesh\", \"year\": 2016, \"percentage\": 18.02}, {\"country\": \"Bangladesh\", \"year\": 2017, \"percentage\": 15.0}, {\"country\": \"Iran (Islamic Republic of)\", \"year\": 2000, \"percentage\": 0.9342}, {\"country\": \"Iran (Islamic Republic of)\", \"year\": 2005, \"percentage\": 8.1}, {\"country\": \"Iran (Islamic Republic of)\", \"year\": 2010, \"percentage\": 15.9}, {\"country\": \"Iran (Islamic Republic of)\", \"year\": 2015, \"percentage\": 45.335}, {\"country\": \"Iran (Islamic Republic of)\", \"year\": 2016, \"percentage\": 53.2268}, {\"country\": \"Iran (Islamic Republic of)\", \"year\": 2017, \"percentage\": 64.044}, {\"country\": \"Iran (Islamic Republic of)\", \"year\": 2018, \"percentage\": 70.0046}, {\"country\": \"Afghanistan\", \"year\": 2005, \"percentage\": 1.2241}, {\"country\": \"Afghanistan\", \"year\": 2010, \"percentage\": 4.0}, {\"country\": \"Afghanistan\", \"year\": 2015, \"percentage\": 8.26}, {\"country\": \"Afghanistan\", \"year\": 2016, \"percentage\": 11.2}, {\"country\": \"Afghanistan\", \"year\": 2017, \"percentage\": 13.5}, {\"country\": \"China\", \"year\": 2000, \"percentage\": 1.7759}, {\"country\": \"China\", \"year\": 2005, \"percentage\": 8.5233}, {\"country\": \"China\", \"year\": 2010, \"percentage\": 34.3}, {\"country\": \"China\", \"year\": 2015, \"percentage\": 50.3}, {\"country\": \"China\", \"year\": 2016, \"percentage\": 53.2}, {\"country\": \"China\", \"year\": 2017, \"percentage\": 54.3}, {\"country\": \"United States of America\", \"year\": 2000, \"percentage\": 43.0792}, {\"country\": \"United States of America\", \"year\": 2005, \"percentage\": 67.9681}, {\"country\": \"United States of America\", \"year\": 2010, \"percentage\": 71.69}, {\"country\": \"United States of America\", \"year\": 2015, \"percentage\": 74.5542}, {\"country\": \"United States of America\", \"year\": 2016, \"percentage\": 85.5444}, {\"country\": \"United States of America\", \"year\": 2017, \"percentage\": 87.2661}, {\"country\": \"Canada\", \"year\": 2000, \"percentage\": 51.3}, {\"country\": \"Canada\", \"year\": 2005, \"percentage\": 71.66}, {\"country\": \"Canada\", \"year\": 2010, \"percentage\": 80.3}, {\"country\": \"Canada\", \"year\": 2015, \"percentage\": 90.0}, {\"country\": \"Canada\", \"year\": 2016, \"percentage\": 91.16}, {\"country\": \"Canada\", \"year\": 2017, \"percentage\": 91.0}, {\"country\": \"United Kingdom\", \"year\": 2000, \"percentage\": 26.8218}, {\"country\": \"United Kingdom\", \"year\": 2005, \"percentage\": 70.0}, {\"country\": \"United Kingdom\", \"year\": 2010, \"percentage\": 85.0}, {\"country\": \"United Kingdom\", \"year\": 2015, \"percentage\": 92.0003}, {\"country\": \"United Kingdom\", \"year\": 2016, \"percentage\": 94.7758}, {\"country\": \"United Kingdom\", \"year\": 2017, \"percentage\": 94.62}, {\"country\": \"United Kingdom\", \"year\": 2018, \"percentage\": 94.8967}, {\"country\": \"Finland\", \"year\": 2000, \"percentage\": 37.2485}, {\"country\": \"Finland\", \"year\": 2005, \"percentage\": 74.48}, {\"country\": \"Finland\", \"year\": 2010, \"percentage\": 86.89}, {\"country\": \"Finland\", \"year\": 2015, \"percentage\": 86.4221}, {\"country\": \"Finland\", \"year\": 2016, \"percentage\": 87.7036}, {\"country\": \"Finland\", \"year\": 2017, \"percentage\": 87.4689}, {\"country\": \"Finland\", \"year\": 2018, \"percentage\": 88.89}]}}, {\"mode\": \"vega-lite\"});\n",
       "</script>"
      ],
      "text/plain": [
       "alt.Chart(...)"
      ]
     },
     "execution_count": 9,
     "metadata": {},
     "output_type": "execute_result"
    }
   ],
   "source": [
    "df.head()\n",
    "\n",
    "alt.Chart(internet).mark_bar().encode(\n",
    "    alt.X(\"year\", bin=True, axis=alt.Axis(title='Year')),\n",
    "    y='percentage',\n",
    "    facet=alt.Facet('country')).properties(\n",
    "    title='Internet Usage'\n",
    "    )\n"
   ]
  },
  {
   "cell_type": "markdown",
   "metadata": {},
   "source": [
    "## Matplotlib linechart\n",
    "\n",
    "For this matplotlib linechart I am using Communication data, more specifically Internet Usage data. <br>\n",
    "The source of this data is International Telecommunication Union (ITU) based in Geneva. \n",
    "\n",
    "- Plotting the percentage of people in Pakistan, using the internet from years 2005-2018"
   ]
  },
  {
   "cell_type": "code",
   "execution_count": 10,
   "metadata": {},
   "outputs": [
    {
     "data": {
      "text/plain": [
       "[<matplotlib.lines.Line2D at 0x7f8cc20fe820>]"
      ]
     },
     "execution_count": 10,
     "metadata": {},
     "output_type": "execute_result"
    },
    {
     "data": {
      "image/png": "[encoded data removed]",
      "text/plain": [
       "<Figure size 432x288 with 1 Axes>"
      ]
     },
     "metadata": {
      "needs_background": "light"
     },
     "output_type": "display_data"
    }
   ],
   "source": [
    "import matplotlib.pyplot as plt\n",
    "\n",
    "mask = internet['country'] == 'Pakistan'\n",
    "internet[mask]\n",
    "\n",
    "plt.ylabel('Percentage (%)') # add y label\n",
    "plt.title('Internet Usage in Pakistan') # set a title for the chart\n",
    "plt.plot(internet[mask].year, internet[mask].percentage, color='r', linestyle=':', marker='.')"
   ]
  },
  {
   "cell_type": "markdown",
   "metadata": {},
   "source": [
    "## Pandas Barchart\n",
    "\n",
    "The source of this data is United Nations Population Division, New York, World Urbanization Prospects: The 2018 Revision. <br>\n",
    "For this pandas barchart I am using Population data for the year 2018, more specifically:\n",
    "\n",
    "- Total Population of a country (y-axis)\n",
    "- Country (x-axis)\n"
   ]
  },
  {
   "cell_type": "code",
   "execution_count": 11,
   "metadata": {},
   "outputs": [
    {
     "data": {
      "text/plain": [
       "<Figure size 1800x720 with 0 Axes>"
      ]
     },
     "execution_count": 11,
     "metadata": {},
     "output_type": "execute_result"
    },
    {
     "data": {
      "image/png": "[encoded data removed]",
      "text/plain": [
       "<Figure size 432x288 with 1 Axes>"
      ]
     },
     "metadata": {
      "needs_background": "light"
     },
     "output_type": "display_data"
    },
    {
     "data": {
      "text/plain": [
       "<Figure size 1800x720 with 0 Axes>"
      ]
     },
     "metadata": {},
     "output_type": "display_data"
    }
   ],
   "source": [
    "df.plot.bar(x = 'country', y = 'population')  #rot = 1 sets labels horizontal\n",
    "plt.ylabel('Population (in millions)') # y label\n",
    "plt.title('Population dataset') # Title\n",
    "plt.figure(figsize = (25, 10))"
   ]
  },
  {
   "cell_type": "markdown",
   "metadata": {},
   "source": [
    "## Seaborn Scatterplot\n",
    "\n",
    "The source of this data is United Nations Population Division, New York, World Urbanization Prospects: The 2018 Revision. <br>\n",
    "For this seaborn scatterplot I am using Population data for the year 2018, more specifically:\n",
    "\n",
    "- Percentage of Population Living in Rural Areas (x-axis)\n",
    "- Total population of the country, in millions (y-axis)\n"
   ]
  },
  {
   "cell_type": "code",
   "execution_count": 12,
   "metadata": {},
   "outputs": [
    {
     "data": {
      "image/png": "[encoded data removed]",
      "text/plain": [
       "<Figure size 720x360 with 1 Axes>"
      ]
     },
     "metadata": {
      "needs_background": "light"
     },
     "output_type": "display_data"
    }
   ],
   "source": [
    "import seaborn as sns\n",
    "\n",
    "plt.rcParams[\"figure.figsize\"] = (10,5)\n",
    "\n",
    "#ax is the axis object!\n",
    "ax = sns.scatterplot(x='percentage',\n",
    "                     y='population', \n",
    "                     hue='country',  #set color by species \n",
    "                     palette='Set2',   #use built-in color palette\n",
    "                     data=df)\n",
    "ax.set(xlabel='Percentage', \n",
    "       ylabel='Population', \n",
    "       title ='Population Dataset')\n",
    "\n",
    "l = ax.legend()  #set the legend title\n",
    "l.get_texts()[0].set_text('Countries')"
   ]
  }
 ],
 "metadata": {
  "kernelspec": {
   "display_name": "Python 3 (ipykernel)",
   "language": "python",
   "name": "python3"
  },
  "language_info": {
   "codemirror_mode": {
    "name": "ipython",
    "version": 3
   },
   "file_extension": ".py",
   "mimetype": "text/x-python",
   "name": "python",
   "nbconvert_exporter": "python",
   "pygments_lexer": "ipython3",
   "version": "3.9.5"
  }
 },
 "nbformat": 4,
 "nbformat_minor": 4
}
